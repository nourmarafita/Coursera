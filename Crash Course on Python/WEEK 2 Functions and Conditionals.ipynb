{
 "cells": [
  {
   "cell_type": "markdown",
   "id": "average-chemical",
   "metadata": {},
   "source": [
    "# Functions\n",
    "#### The Principles of Code Reuse"
   ]
  },
  {
   "cell_type": "code",
   "execution_count": 1,
   "id": "sacred-forward",
   "metadata": {},
   "outputs": [
    {
     "name": "stdout",
     "output_type": "stream",
     "text": [
      "June has 30 days.\n",
      "July has 31 days.\n"
     ]
    },
    {
     "data": {
      "text/plain": [
       "'July has 31 days.'"
      ]
     },
     "execution_count": 1,
     "metadata": {},
     "output_type": "execute_result"
    }
   ],
   "source": [
    "# REPLACE THIS STARTER CODE WITH YOUR FUNCTION\n",
    "june_days = 30\n",
    "print(\"June has \" + str(june_days) + \" days.\")\n",
    "july_days = 31\n",
    "print(\"July has \" + str(july_days) + \" days.\")\n",
    "\n",
    "\n",
    "def month_days(month, days):\n",
    "    result = F\"{month} has {days} days.\"\n",
    "    return (result)\n",
    "\n",
    "month_days(\"June\", 30)\n",
    "month_days(\"July\", 31)"
   ]
  },
  {
   "cell_type": "markdown",
   "id": "scheduled-borough",
   "metadata": {},
   "source": [
    "#### Code Style"
   ]
  },
  {
   "cell_type": "code",
   "execution_count": 2,
   "id": "persistent-blade",
   "metadata": {},
   "outputs": [
    {
     "name": "stdout",
     "output_type": "stream",
     "text": [
      "The area is 30\n"
     ]
    }
   ],
   "source": [
    "def rectangle_area(base, height):\n",
    "\tarea = base * height\n",
    "\tprint(\"The area is \" + str(area))\n",
    "\n",
    "rectangle_area(5, 6)"
   ]
  },
  {
   "cell_type": "markdown",
   "id": "tender-oracle",
   "metadata": {},
   "source": [
    "# Conditionals\n",
    "#### Branching with if Statements"
   ]
  },
  {
   "cell_type": "code",
   "execution_count": null,
   "id": "about-lightweight",
   "metadata": {},
   "outputs": [],
   "source": [
    "def is_positive(number):\n",
    "  if number > 0:\n",
    "    return True\n",
    "\n",
    "is_positive(13)"
   ]
  },
  {
   "cell_type": "markdown",
   "id": "coupled-brunei",
   "metadata": {},
   "source": [
    "#### Elif statements"
   ]
  },
  {
   "cell_type": "code",
   "execution_count": null,
   "id": "employed-clothing",
   "metadata": {},
   "outputs": [],
   "source": [
    "def number_group(number):\n",
    "  if number > 0:\n",
    "    return \"Positive\"\n",
    "  elif number == 0:\n",
    "    return \"Zero\"\n",
    "  else:\n",
    "    return \"Negative\"\n",
    "\n",
    "print(number_group(10)) #Should be Positive\n",
    "print(number_group(0)) #Should be Zero\n",
    "print(number_group(-5)) #Should be Negative"
   ]
  },
  {
   "cell_type": "markdown",
   "id": "outer-ivory",
   "metadata": {},
   "source": [
    "# Practice Conditionals"
   ]
  },
  {
   "cell_type": "code",
   "execution_count": null,
   "id": "ruled-nashville",
   "metadata": {},
   "outputs": [],
   "source": [
    "\"\"\"Question 5\n",
    "If a filesystem has a block size of 4096 bytes, \n",
    "this means that a file comprised of only one byte will still use 4096 bytes of storage. \n",
    "A file made up of 4097 bytes will use 4096*2=8192 bytes of storage. Knowing this, \n",
    "can you fill in the gaps in the calculate_storage function below, \n",
    "which calculates the total number of bytes needed to store a file of a given size? \"\"\"\n",
    "\n",
    "def calculate_storage(filesize):\n",
    "    block_size = 4096\n",
    "    # Use floor division to calculate how many blocks are fully occupied\n",
    "    full_blocks = filesize // block_size\n",
    "    # Use the modulo operator to check whether there's any remainder\n",
    "    partial_block_remainder = filesize % block_size\n",
    "    # Depending on whether there's a remainder or not, return\n",
    "    # the total number of bytes required to allocate enough blocks\n",
    "    # to store your data.\n",
    "    if partial_block_remainder > 0:\n",
    "        return (full_blocks*4096)+4096\n",
    "    return (full_blocks * 4096)\n",
    "\n",
    "print(calculate_storage(1))    # Should be 4096\n",
    "print(calculate_storage(4096)) # Should be 4096\n",
    "print(calculate_storage(4097)) # Should be 8192\n",
    "print(calculate_storage(6000)) # Should be 8192"
   ]
  },
  {
   "cell_type": "markdown",
   "id": "developing-tolerance",
   "metadata": {},
   "source": [
    "# Module 2 Graded Assessment"
   ]
  },
  {
   "cell_type": "code",
   "execution_count": null,
   "id": "dimensional-appearance",
   "metadata": {},
   "outputs": [],
   "source": [
    "\"\"\" Question 4\n",
    "Students in a class receive their grades as Pass/Fail. \n",
    "Scores of 60 or more (out of 100) mean that the grade is \"Pass\". \n",
    "For lower scores, the grade is \"Fail\". \n",
    "In addition, scores above 95 (not included) are graded as \"Top Score\". \n",
    "Fill in this function so that it returns the proper grade. \"\"\"\n",
    "\n",
    "def exam_grade(score):\n",
    "\tif score > 95:\n",
    "\t\tgrade = \"Top Score\"\n",
    "\telif 95 >= score >= 60:\n",
    "\t\tgrade = \"Pass\"\n",
    "\telse:\n",
    "\t\tgrade = \"Fail\"\n",
    "\treturn grade\n",
    "\n",
    "print(exam_grade(65)) # Should be Pass\n",
    "print(exam_grade(55)) # Should be Fail\n",
    "print(exam_grade(60)) # Should be Pass\n",
    "print(exam_grade(95)) # Should be Pass\n",
    "print(exam_grade(100)) # Should be Top Score\n",
    "print(exam_grade(0)) # Should be Fail"
   ]
  },
  {
   "cell_type": "code",
   "execution_count": null,
   "id": "suspended-titanium",
   "metadata": {},
   "outputs": [],
   "source": [
    "\"\"\" 6. Complete the body of the format_name function. \n",
    "This function receives the first_name and last_name parameters \n",
    "and then returns a properly formatted string. \"\"\"\n",
    "\n",
    "\n",
    "def format_name(first_name, last_name):\n",
    "\t# code goes here\n",
    "\tif first_name != \"\" and last_name != \"\":\n",
    "\t\treturn (\"Name: \" + last_name + \", \" + first_name)\n",
    "\telif first_name != \"\" or last_name != \"\":\n",
    "\t\treturn (\"Name: \" + last_name + first_name)\n",
    "\telse:\n",
    "\t\treturn \"\"\n",
    "\treturn True \n",
    "\n",
    "print(format_name(\"Ernest\", \"Hemingway\"))\n",
    "# Should return the string \"Name: Hemingway, Ernest\"\n",
    "\n",
    "print(format_name(\"\", \"Madonna\"))\n",
    "# Should return the string \"Name: Madonna\"\n",
    "\n",
    "print(format_name(\"Voltaire\", \"\"))\n",
    "# Should return the string \"Name: Voltaire\"\n",
    "\n",
    "print(format_name(\"\", \"\"))\n",
    "# Should return an empty string"
   ]
  },
  {
   "cell_type": "code",
   "execution_count": null,
   "id": "beginning-extra",
   "metadata": {},
   "outputs": [],
   "source": [
    "\"\"\" 7. The longest_word function is used to compare 3 words. \n",
    "It should return the word with the most number of characters \n",
    "(and the first in the list when they have the same length). \n",
    "Fill in the blank to make this happen. \"\"\"\n",
    "\n",
    "def longest_word(word1, word2, word3):\n",
    "\tif len(word1) >= len(word2) and len(word1) >= len(word3):\n",
    "\t\tword = word1\n",
    "\telif len(word2) >= len(word1) and len(word2) >= len(word3):\n",
    "\t\tword = word2\n",
    "\telse:\n",
    "\t\tword = word3\n",
    "\treturn(word)\n",
    "\n",
    "print(longest_word(\"chair\", \"couch\", \"table\"))\n",
    "print(longest_word(\"bed\", \"bath\", \"beyond\"))\n",
    "print(longest_word(\"laptop\", \"notebook\", \"desktop\"))"
   ]
  },
  {
   "cell_type": "code",
   "execution_count": null,
   "id": "encouraging-ensemble",
   "metadata": {},
   "outputs": [],
   "source": [
    "\"\"\" Question 10\n",
    "The fractional_part function divides the numerator by the denominator, \n",
    "and returns just the fractional part (a number between 0 and 1). \n",
    "Complete the body of the function so that it returns the right number.\n",
    "Note: Since division by 0 produces an error, if the denominator is 0, \n",
    "the function should return 0 instead of attempting the division. \"\"\"\n",
    "\n",
    "\n",
    "import math\n",
    "def fractional_part(numerator, denominator):\n",
    "\t# Operate with numerator and denominator to \n",
    "# keep just the fractional part of the quotient\n",
    "\tif denominator == 0:\n",
    " \t return 0\n",
    "\treturn numerator / denominator - math.floor(numerator / denominator)\n",
    "\n",
    "print(fractional_part(5, 5)) # Should be 0\n",
    "print(fractional_part(5, 4)) # Should be 0.25\n",
    "print(fractional_part(5, 3)) # Should be 0.66...\n",
    "print(fractional_part(5, 2)) # Should be 0.5\n",
    "print(fractional_part(5, 0)) # Should be 0\n",
    "print(fractional_part(0, 5)) # Should be 0"
   ]
  }
 ],
 "metadata": {
  "kernelspec": {
   "display_name": "Python 3",
   "language": "python",
   "name": "python3"
  },
  "language_info": {
   "codemirror_mode": {
    "name": "ipython",
    "version": 3
   },
   "file_extension": ".py",
   "mimetype": "text/x-python",
   "name": "python",
   "nbconvert_exporter": "python",
   "pygments_lexer": "ipython3",
   "version": "3.8.5"
  }
 },
 "nbformat": 4,
 "nbformat_minor": 5
}
