{
 "cells": [
  {
   "cell_type": "markdown",
   "id": "religious-heather",
   "metadata": {},
   "source": [
    "# String\n",
    "#### What is a string?"
   ]
  },
  {
   "cell_type": "code",
   "execution_count": 1,
   "id": "necessary-hybrid",
   "metadata": {},
   "outputs": [
    {
     "name": "stdout",
     "output_type": "stream",
     "text": [
      "hellohello10\n",
      "abcabc6\n",
      "0\n"
     ]
    }
   ],
   "source": [
    "def double_word(word):\n",
    "    return word + word + str(2*len(word))\n",
    "\n",
    "print(double_word(\"hello\")) # Should return hellohello10\n",
    "print(double_word(\"abc\"))   # Should return abcabc6\n",
    "print(double_word(\"\"))      # Should return 0"
   ]
  },
  {
   "cell_type": "markdown",
   "id": "apart-source",
   "metadata": {},
   "source": [
    "#### The Parts of a String"
   ]
  },
  {
   "cell_type": "code",
   "execution_count": 2,
   "id": "continental-longitude",
   "metadata": {},
   "outputs": [
    {
     "name": "stdout",
     "output_type": "stream",
     "text": [
      "True\n",
      "False\n",
      "True\n"
     ]
    }
   ],
   "source": [
    "def first_and_last(message):\n",
    "    if not message:\n",
    "        return True\n",
    "    return message[0] == message[-1]\n",
    "\n",
    "print(first_and_last(\"else\"))\n",
    "print(first_and_last(\"tree\"))\n",
    "print(first_and_last(\"\"))"
   ]
  },
  {
   "cell_type": "markdown",
   "id": "relative-samuel",
   "metadata": {},
   "source": [
    "#### Creating New Strings"
   ]
  },
  {
   "cell_type": "code",
   "execution_count": null,
   "id": "banned-conviction",
   "metadata": {},
   "outputs": [],
   "source": [
    "word = \"supercalifragilisticexpialidocious\"\n",
    "print(word.index(\"x\"))"
   ]
  },
  {
   "cell_type": "markdown",
   "id": "hungry-stand",
   "metadata": {},
   "source": [
    "#### More String Methods"
   ]
  },
  {
   "cell_type": "code",
   "execution_count": null,
   "id": "strong-count",
   "metadata": {},
   "outputs": [],
   "source": [
    "\"\"\"\n",
    "Question \n",
    "Want to try some string methods yourself? \n",
    "Give it a go! Fill in the gaps in the initials function \n",
    "so that it returns the initials of the words contained in the phrase received. \n",
    "in upper case. For example: \"Universal Serial Bus should return \"USB\" \n",
    "\"local area network should return \"LAN\"\n",
    "\"\"\"\n",
    "\n",
    "def initials(phrase):\n",
    "\n",
    "   words = phrase.split()\n",
    "\n",
    "   result = \"\"\n",
    "\n",
    "   for word in words:\n",
    "\n",
    "       result += word[0].upper()\n",
    "\n",
    "   return result\n",
    "\n",
    "print(initials(\"Universal Serial Bus\")) # Should be: USB\n",
    "print(initials(\"local area network\")) # Should be: LAN\n",
    "print(initials(\"Operating system\")) # Should be: OS"
   ]
  },
  {
   "cell_type": "markdown",
   "id": "previous-jewel",
   "metadata": {},
   "source": [
    "#### Formatting Strings"
   ]
  },
  {
   "cell_type": "code",
   "execution_count": 3,
   "id": "formal-sierra",
   "metadata": {},
   "outputs": [
    {
     "name": "stdout",
     "output_type": "stream",
     "text": [
      "Reed received 80% on the exam\n",
      "Paige received 92% on the exam\n",
      "Jesse received 85% on the exam\n"
     ]
    }
   ],
   "source": [
    "\"\"\"\n",
    "Question \n",
    "Modify the student_grade function using the format method, \n",
    "so that it returns the phrase \"X received Y% on the exam\". \n",
    "For example, student_grade(\"Reed\", 80) should return \"Reed received 80% on the exam\".\n",
    "\"\"\"\n",
    "\n",
    "def student_grade(name, grade):\n",
    "        return \"{name} received {grade}% on the exam\".format (name= name , grade=grade)\n",
    "\n",
    "print(student_grade(\"Reed\", 80))\n",
    "print(student_grade(\"Paige\", 92))\n",
    "print(student_grade(\"Jesse\", 85))"
   ]
  },
  {
   "cell_type": "markdown",
   "id": "cleared-drove",
   "metadata": {},
   "source": [
    "# Practice Quiz: Strings"
   ]
  },
  {
   "cell_type": "code",
   "execution_count": null,
   "id": "reverse-filling",
   "metadata": {},
   "outputs": [],
   "source": [
    "\"\"\"\n",
    "1. The is_palindrome function checks if a string is a palindrome. \n",
    "A palindrome is a string that can be equally read from left to right or right to left, \n",
    "omitting blank spaces, and ignoring capitalization. \n",
    "Examples of palindromes are words like kayak and radar, and phrases like \"Never Odd or Even\". \n",
    "Fill in the blanks in this function to return True if the passed string is a palindrome, False if not.\n",
    "\"\"\"\n",
    "\n",
    "def is_palindrome(input_string):\n",
    "    new_string = input_string.split()\n",
    "    new_string = \"\".join(new_string).lower()\n",
    "    reverse_string = new_string[::-1]    \n",
    "    \n",
    "    if new_string == reverse_string:\n",
    "        return True\n",
    "    else:\n",
    "        return False\n",
    "\n",
    "print(is_palindrome(\"Never Odd or Even\")) # Should be True\n",
    "print(is_palindrome(\"abc\")) # Should be False\n",
    "print(is_palindrome(\"kayak\")) # Should be True"
   ]
  },
  {
   "cell_type": "code",
   "execution_count": null,
   "id": "vocal-scheme",
   "metadata": {},
   "outputs": [],
   "source": [
    "\"\"\"\n",
    "Question 2\n",
    "Using the format method, fill in the gaps in the convert_distance function so that it returns \n",
    "the phrase \"X miles equals Y km\", with Y having only 1 decimal place. For example, convert_distance(12) \n",
    "should return \"12 miles equals 19.2 km\".\n",
    "\"\"\"\n",
    "def convert_distance(miles):\n",
    "\tkm = miles * 1.6 \n",
    "\tresult = \"{} miles equals {:.1f} km\".format(miles,km)\n",
    "\treturn result\n",
    "\n",
    "print(convert_distance(12)) # Should be: 12 miles equals 19.2 km\n",
    "print(convert_distance(5.5)) # Should be: 5.5 miles equals 8.8 km\n",
    "print(convert_distance(11)) # Should be: 11 miles equals 17.6 km"
   ]
  },
  {
   "cell_type": "code",
   "execution_count": null,
   "id": "pursuant-reader",
   "metadata": {},
   "outputs": [],
   "source": [
    "\n",
    "\"\"\"\n",
    "4.Question 4\n",
    "Fill in the gaps in the nametag function so that it uses the format method to return first_name and the \n",
    "first initial of last_name followed by a period. \n",
    "For example, nametag(\"Jane\", \"Smith\") should return \"Jane S.\"\n",
    "\"\"\"\n",
    "\n",
    "\"\"\"Fill in the gaps in the nametag function so that it uses the format method to return first_name \n",
    "and the first initial of last_name followed by a period. For example, nametag(\"Jane\", \"Smith\") should return \"Jane S.\"\n",
    "\"\"\"\n",
    "\n",
    "def nametag(first_name, last_name):\n",
    "\treturn(\"{} {[0]}.\".format(first_name,last_name))\n",
    "\n",
    "print(nametag(\"Jane\", \"Smith\")) \n",
    "# Should display \"Jane S.\" \n",
    "print(nametag(\"Francesco\", \"Rinaldi\")) \n",
    "# Should display \"Francesco R.\" \n",
    "print(nametag(\"Jean-Luc\", \"Grand-Pierre\")) \n",
    "# Should display \"Jean-Luc G.\""
   ]
  },
  {
   "cell_type": "code",
   "execution_count": null,
   "id": "satellite-handy",
   "metadata": {},
   "outputs": [],
   "source": [
    "\"\"\"\n",
    "Question 5\n",
    "The replace_ending function replaces the old string in a sentence with the new string, \n",
    "but only if the sentence ends with the old string. \n",
    "If there is more than one occurrence of the old string in the sentence, \n",
    "only the one at the end is replaced, not all of them. \n",
    "For example, replace_ending(\"abcabc\", \"abc\", \"xyz\") should return abcxyz, not xyzxyz or xyzabc. \n",
    "The string comparison is case-sensitive, so replace_ending(\"abcabc\", \"ABC\", \"xyz\") \n",
    "should return abcabc (no changes made). \n",
    "\"\"\"\n",
    "\n",
    "def replace_ending(sentence, old, new):\n",
    "# Check if the old string is at the end of the sentence\n",
    "\tif sentence.endswith(old):\n",
    "\t\t# Using i as the slicing index, combine the part\n",
    "\t\t# of the sentence up to the matched string at the\n",
    "\t\t# end with the new string\n",
    "\t\ti = sentence.rindex(old)\n",
    "\t\tnew_sentence = sentence[:i]+new\n",
    "\t\treturn new_sentence\n",
    "\t# Return the original sentence if there is no match\n",
    "\treturn sentence\n",
    "\t\n",
    "print(replace_ending(\"It's raining cats and cats\", \"cats\", \"dogs\")) \n",
    "# Should display \"It's raining cats and dogs\"\n",
    "print(replace_ending(\"She sells seashells by the seashore\", \"seashells\", \"donuts\")) \n",
    "# Should display \"She sells seashells by the seashore\"\n",
    "print(replace_ending(\"The weather is nice in May\", \"may\", \"april\")) \n",
    "# Should display \"The weather is nice in May\"\n",
    "print(replace_ending(\"The weather is nice in May\", \"May\", \"April\")) \n",
    "# Should display \"The weather is nice in April\""
   ]
  },
  {
   "cell_type": "markdown",
   "id": "thick-rebound",
   "metadata": {},
   "source": [
    "# Lists\n",
    "#### What is a list?"
   ]
  },
  {
   "cell_type": "code",
   "execution_count": null,
   "id": "mighty-requirement",
   "metadata": {},
   "outputs": [],
   "source": [
    "\"\"\"\n",
    "Question \n",
    "Using the \"split\" string method from the preceding lesson, \n",
    "complete the get_word function to return the {n}th word from a passed sentence. \n",
    "For example, get_word(\"This is a lesson about lists\", 4) should return \"lesson\", \n",
    "which is the 4th word in this sentence. \n",
    "Hint: remember that list indexes start at 0, not 1.\n",
    "\"\"\"\n",
    "\n",
    "def get_word(sentence, n):\n",
    "\t# Only proceed if n is positive \n",
    "\tif n > 0:\n",
    "\t\twords = sentence.split()\n",
    "\t\t# Only proceed if n is not more than the number of words \n",
    "\t\tif n <= len(words):\n",
    "\t\t\treturn(words[n-1])\n",
    "\treturn(\"\")\n",
    "\n",
    "print(get_word(\"This is a lesson about lists\", 4)) # Should print: lesson\n",
    "print(get_word(\"This is a lesson about lists\", -4)) # Nothing\n",
    "print(get_word(\"Now we are cooking!\", 1)) # Should print: Now\n",
    "print(get_word(\"Now we are cooking!\", 5)) # Nothing"
   ]
  },
  {
   "cell_type": "markdown",
   "id": "certified-treasury",
   "metadata": {},
   "source": [
    "#### Modifying the Contents of a List"
   ]
  },
  {
   "cell_type": "code",
   "execution_count": 4,
   "id": "dominican-institute",
   "metadata": {},
   "outputs": [
    {
     "name": "stdout",
     "output_type": "stream",
     "text": [
      "['a', 'c', 'e', 'g']\n",
      "['Orange', 'Strawberry', 'Peach']\n",
      "[]\n"
     ]
    }
   ],
   "source": [
    "\"\"\"\n",
    "Question \n",
    "The skip_elements function returns a list containing \n",
    "every other element from an input list, starting with the first element. \n",
    "Complete this function to do that, using the for loop to iterate through the input list.\n",
    "\"\"\"\n",
    "\n",
    "def skip_elements(elements):\n",
    "\t# Initialize variables\n",
    "\tnew_list = []\n",
    "\ti = 0\n",
    "\n",
    "\t# Iterate through the list\n",
    "\tfor element in elements:\n",
    "\t\t# Does this element belong in the resulting list?\n",
    "\t\tif i%2 == 0 :\n",
    "\t\t\t# Add this element to the resulting list\n",
    "\t\t\tnew_list = new_list + [element]\n",
    "\t\t# Increment i\n",
    "\t\ti= i + 1\n",
    "\n",
    "\treturn new_list\n",
    "\n",
    "print(skip_elements([\"a\", \"b\", \"c\", \"d\", \"e\", \"f\", \"g\"])) # Should be ['a', 'c', 'e', 'g']\n",
    "print(skip_elements(['Orange', 'Pineapple', 'Strawberry', 'Kiwi', 'Peach'])) # Should be ['Orange', 'Strawberry', 'Peach']\n",
    "print(skip_elements([])) # Should be []"
   ]
  },
  {
   "cell_type": "markdown",
   "id": "oriental-concert",
   "metadata": {},
   "source": [
    "#### Lists and Tuples"
   ]
  },
  {
   "cell_type": "code",
   "execution_count": 5,
   "id": "explicit-experience",
   "metadata": {},
   "outputs": [
    {
     "name": "stdout",
     "output_type": "stream",
     "text": [
      "17.46\n",
      "0.48\n",
      "1.21\n"
     ]
    }
   ],
   "source": [
    "\"\"\"\n",
    "Question \n",
    "Let's use tuples to store information about a file: its name, its type and its size in bytes. \n",
    "Fill in the gaps in this code to return the size in kilobytes (a kilobyte is 1024 bytes) up to 2 decimal places.\n",
    "\"\"\"\n",
    "\n",
    "def file_size(file_info):\n",
    "\tname, file_extension, bytes= file_info\n",
    "\treturn(\"{:.2f}\".format(bytes / 1024))\n",
    "\n",
    "print(file_size(('Class Assignment', 'docx', 17875))) # Should print 17.46\n",
    "print(file_size(('Notes', 'txt', 496))) # Should print 0.48\n",
    "print(file_size(('Program', 'py', 1239))) # Should print 1.21"
   ]
  },
  {
   "cell_type": "markdown",
   "id": "modified-meeting",
   "metadata": {},
   "source": [
    "#### Iterating over Lists and Tuples"
   ]
  },
  {
   "cell_type": "code",
   "execution_count": 6,
   "id": "flying-palestinian",
   "metadata": {},
   "outputs": [
    {
     "name": "stdout",
     "output_type": "stream",
     "text": [
      "['a', 'c', 'e', 'g']\n",
      "['Orange', 'Strawberry', 'Peach']\n"
     ]
    }
   ],
   "source": [
    "\"\"\"\n",
    "Question \n",
    "Try out the enumerate function for yourself in this quick exercise. \n",
    "Complete the skip_elements function to return every other element from the list, \n",
    "this time using the enumerate function to check if an element is on an even position or an odd position.\n",
    "\"\"\"\n",
    "\n",
    "#CARA 1\n",
    "def skip_elements(elements):\n",
    "\t# code goes here\n",
    "\telement = [e for i, e in enumerate(elements) if i % 2 == 0]\n",
    "\treturn element\n",
    "\n",
    "print(skip_elements([\"a\", \"b\", \"c\", \"d\", \"e\", \"f\", \"g\"])) # Should be ['a', 'c', 'e', 'g']\n",
    "print(skip_elements(['Orange', 'Pineapple', 'Strawberry', 'Kiwi', 'Peach'])) # Should be ['Orange', 'Strawberry', 'Peach']"
   ]
  },
  {
   "cell_type": "code",
   "execution_count": 7,
   "id": "spectacular-external",
   "metadata": {},
   "outputs": [
    {
     "name": "stdout",
     "output_type": "stream",
     "text": [
      "['a', 'c', 'e', 'g']\n",
      "['Orange', 'Strawberry', 'Peach']\n"
     ]
    }
   ],
   "source": [
    "#CARA 2\n",
    "\n",
    "def skip_elements(elements):\n",
    "    # code goes here\n",
    "    element = []\n",
    "    for i, e in enumerate(elements):\n",
    "        if i % 2 == 0:\n",
    "            element.append(e)\n",
    "    return element\n",
    "\n",
    "print(skip_elements([\"a\", \"b\", \"c\", \"d\", \"e\", \"f\", \"g\"])) # Should be ['a', 'c', 'e', 'g']\n",
    "print(skip_elements(['Orange', 'Pineapple', 'Strawberry', 'Kiwi', 'Peach'])) # Should be ['Orange', 'Strawberry', 'Peach']"
   ]
  },
  {
   "cell_type": "markdown",
   "id": "composed-flexibility",
   "metadata": {},
   "source": [
    "#### List Comprehensions"
   ]
  },
  {
   "cell_type": "code",
   "execution_count": 8,
   "id": "sunrise-factory",
   "metadata": {},
   "outputs": [
    {
     "name": "stdout",
     "output_type": "stream",
     "text": [
      "[1, 3, 5]\n",
      "[1, 3, 5, 7, 9]\n",
      "[1, 3, 5, 7, 9, 11]\n",
      "[1]\n",
      "[]\n"
     ]
    }
   ],
   "source": [
    "\"\"\"\n",
    "Question \n",
    "The odd_numbers function returns a list of odd numbers between 1 and n, inclusively. \n",
    "Fill in the blanks in the function. using list comprehension. \n",
    "Hint: remember that list and range counters start at 0 and end at the limit minus 1.\n",
    "\"\"\"\n",
    "\n",
    "def odd_numbers(n):\n",
    "\treturn [x for x in range(n+1) if x % 2 != 0]\n",
    "\n",
    "print(odd_numbers(5))  # Should print [1, 3, 5]\n",
    "print(odd_numbers(10)) # Should print [1, 3, 5, 7, 9]\n",
    "print(odd_numbers(11)) # Should print [1, 3, 5, 7, 9, 11]\n",
    "print(odd_numbers(1))  # Should print [1]\n",
    "print(odd_numbers(-1)) # Should print []"
   ]
  },
  {
   "cell_type": "markdown",
   "id": "spread-tractor",
   "metadata": {},
   "source": [
    "# Practice Quiz: Lists"
   ]
  },
  {
   "cell_type": "code",
   "execution_count": null,
   "id": "accurate-strain",
   "metadata": {},
   "outputs": [],
   "source": [
    "\"\"\"\n",
    "1. Given a list of filenames, we want to rename all the files with extension hpp to the extension h. \n",
    "To do this, we would like to generate a new list called newfilenames, consisting of the new filenames. \n",
    "Fill in the blanks in the code using any of the methods you’ve learned thus far, like a for loop or a list comprehension.\n",
    "\"\"\"\n",
    "\n",
    "filenames = [\"program.c\", \"stdio.hpp\", \"sample.hpp\", \"a.out\", \"math.hpp\", \"hpp.out\"]\n",
    "newfilenames = []\n",
    "for oldfilename in filenames:\n",
    "  if \".hpp\" in oldfilename:\n",
    "    newfilenames.append((oldfilename.replace(\".hpp\",\".h\")))\n",
    "  else:\n",
    "    newfilenames.append((oldfilename))\n",
    "\n",
    "print(newfilenames) \n",
    "# Should be [\"program.c\", \"stdio.h\", \"sample.h\", \"a.out\", \"math.h\", \"hpp.out\"]"
   ]
  },
  {
   "cell_type": "code",
   "execution_count": null,
   "id": "cognitive-check",
   "metadata": {},
   "outputs": [],
   "source": [
    "\"\"\"\n",
    "2. Let's create a function that turns text into pig latin: \n",
    "a simple text transformation that modifies each word moving the first character to the end \n",
    "and appending \"ay\" to the end. For example, python ends up as ythonpay.\n",
    "\"\"\"\n",
    "\n",
    "def pig_latin(text):\n",
    "  say = \"\"\n",
    "  # Separate the text into words\n",
    "  words = text.split()\n",
    "  for word in words:\n",
    "    # Create the pig latin word and add it to the list\n",
    "    texts = word[1:]+word[0]+ \"ay\" + \" \"\n",
    "    say += texts\n",
    "    # Turn the list back into a phrase\n",
    "  return say\n",
    "\t\t\n",
    "print(pig_latin(\"hello how are you\")) # Should be \"ellohay owhay reaay ouyay\"\n",
    "print(pig_latin(\"programming in python is fun\")) # Should be \"rogrammingpay niay ythonpay siay unfay\""
   ]
  },
  {
   "cell_type": "code",
   "execution_count": null,
   "id": "thermal-influence",
   "metadata": {},
   "outputs": [],
   "source": [
    "\"\"\"\n",
    "3. The permissions of a file in a Linux system are split into three sets of three permissions: \n",
    "read, write, and execute for the owner, group, and others. \n",
    "Each of the three values can be expressed as an octal number summing each permission, \n",
    "with 4 corresponding to read, 2 to write, and 1 to execute. \n",
    "Or it can be written with a string using the letters r, w, and x or - when the permission is not granted.\n",
    "For example: \n",
    "640 is read/write for the owner, read for the group, and no permissions for the others; \n",
    "converted to a string, it would be: \"rw-r-----\"\n",
    "755 is read/write/execute for the owner, and read/execute for group and others; \n",
    "converted to a string, it would be: \"rwxr-xr-x\"\n",
    "Fill in the blanks to make the code convert a permission in octal format into a string format.\n",
    "\"\"\"\n",
    "\n",
    "def octal_to_string(octal):\n",
    "    result = \"\"\n",
    "    value_letters = [(4,\"r\"),(2,\"w\"),(1,\"x\")]\n",
    "    # Iterate over each of the digits in octal\n",
    "    for digit in [int(n) for n in str(octal)]:\n",
    "        # Check for each of the permissions values\n",
    "        for value, letter in value_letters:\n",
    "            if digit >= value:\n",
    "                result += letter\n",
    "                digit -= value\n",
    "            else:\n",
    "                result+=\"-\"\n",
    "    return result\n",
    "    \n",
    "print(octal_to_string(755)) # Should be rwxr-xr-x\n",
    "print(octal_to_string(644)) # Should be rw-r--r--\n",
    "print(octal_to_string(750)) # Should be rwxr-x---\n",
    "print(octal_to_string(600)) # Should be rw-------"
   ]
  },
  {
   "cell_type": "code",
   "execution_count": 2,
   "id": "differential-lemon",
   "metadata": {},
   "outputs": [
    {
     "name": "stdout",
     "output_type": "stream",
     "text": [
      "Marketing: Mike, Karen, Jake, Tasha\n",
      "Engineering: Kim, Jay, Tom\n",
      "Users: \n"
     ]
    }
   ],
   "source": [
    "\"\"\"\n",
    "5. The group_list function accepts a group name and a list of members, \n",
    "and returns a string with the format: group_name: member1, member2, … \n",
    "For example, group_list(\"g\", [\"a\",\"b\",\"c\"]) returns \"g: a, b, c\". Fill in the gaps in this function to do that.\n",
    "\"\"\"\n",
    "\n",
    "def group_list(group, users):\n",
    "  members = ', '.join(users)\n",
    "  return group + ': ' + members\n",
    "\n",
    "print(group_list(\"Marketing\", [\"Mike\", \"Karen\", \"Jake\", \"Tasha\"])) # Should be \"Marketing: Mike, Karen, Jake, Tasha\"\n",
    "print(group_list(\"Engineering\", [\"Kim\", \"Jay\", \"Tom\"])) # Should be \"Engineering: Kim, Jay, Tom\"\n",
    "print(group_list(\"Users\", \"\")) # Should be \"Users:\""
   ]
  },
  {
   "cell_type": "code",
   "execution_count": 1,
   "id": "spanish-warrant",
   "metadata": {},
   "outputs": [
    {
     "name": "stdout",
     "output_type": "stream",
     "text": [
      "Ken is 30 years old and works as Chef\n",
      "Pat is 35 years old and works as Lawyer\n",
      "Amanda is 25 years old and works as Engineer\n"
     ]
    },
    {
     "data": {
      "text/plain": [
       "'\\nOutput should match:\\nKen is 30 years old and works as Chef\\nPat is 35 years old and works as Lawyer\\nAmanda is 25 years old and works as Engineer\\n'"
      ]
     },
     "execution_count": 1,
     "metadata": {},
     "output_type": "execute_result"
    }
   ],
   "source": [
    "\"\"\"\n",
    "Question 6\n",
    "The guest_list function reads in a list of tuples with the name, age, and profession of each party guest, \n",
    "and prints the sentence \"Guest is X years old and works as __.\" for each one. \n",
    "For example, guest_list(('Ken', 30, \"Chef\"), (\"Pat\", 35, 'Lawyer'), ('Amanda', 25, \"Engineer\")) \n",
    "should print out: Ken is 30 years old and works as Chef. Pat is 35 years old and works as Lawyer. \n",
    "Amanda is 25 years old and works as Engineer. Fill in the gaps in this function to do that. \n",
    "\"\"\"\n",
    "\n",
    "def guest_list(guests):\n",
    "\tcount = 0\n",
    "\tif count < 3:\n",
    "\t\tfor guest in guests:\n",
    "\t\t\tname, age, job = guest\n",
    "\t\t\tprint(\"{} is {} years old and works as {}\".format(name, age, job))\n",
    "\t\t\tcount = count + 1\n",
    "\n",
    "guest_list([('Ken', 30, \"Chef\"), (\"Pat\", 35, 'Lawyer'), ('Amanda', 25, \"Engineer\")])\n",
    "\n",
    "#Click Run to submit code\n",
    "\"\"\"\n",
    "Output should match:\n",
    "Ken is 30 years old and works as Chef\n",
    "Pat is 35 years old and works as Lawyer\n",
    "Amanda is 25 years old and works as Engineer\n",
    "\"\"\""
   ]
  },
  {
   "cell_type": "markdown",
   "id": "maritime-humor",
   "metadata": {},
   "source": [
    "# Dictionaries\n",
    "#### What is a dictionary?"
   ]
  },
  {
   "cell_type": "code",
   "execution_count": 4,
   "id": "comparative-python",
   "metadata": {},
   "outputs": [
    {
     "name": "stdout",
     "output_type": "stream",
     "text": [
      "{'Introduction': 1, 'Chapter 1': 4, 'Chapter 2': 11, 'Chapter 3': 24, 'Chapter 4': 30, 'Epilogue': 39}\n",
      "False\n"
     ]
    }
   ],
   "source": [
    "\"\"\"\n",
    "Question \n",
    "The \"toc\" dictionary represents the table of contents for a book. \n",
    "Fill in the blanks to do the following: \n",
    "1) Add an entry for Epilogue on page 39. \n",
    "2) Change the page number for Chapter 3 to 24. \n",
    "3) Display the new dictionary contents. \n",
    "4) Display True if there is Chapter 5, False if there isn't.\n",
    "\"\"\"\n",
    "\n",
    "toc = {\"Introduction\":1, \"Chapter 1\":4, \"Chapter 2\":11, \"Chapter 3\":25, \"Chapter 4\":30}\n",
    "toc[\"Epilogue\"] = 39\n",
    "toc[\"Chapter 3\"] = 24\n",
    "print(toc)\n",
    "print(\"Chapter 5\" in toc)\n",
    "\n",
    "# Epilogue starts on page 39\n",
    "# Chapter 3 now starts on page 24\n",
    "# What are the current contents of the dictionary?\n",
    "# Is there a Chapter 5?"
   ]
  },
  {
   "cell_type": "markdown",
   "id": "divine-hundred",
   "metadata": {},
   "source": [
    "#### Iterating over the Contents of a Dictionary"
   ]
  },
  {
   "cell_type": "code",
   "execution_count": 5,
   "id": "comparable-cleaners",
   "metadata": {},
   "outputs": [
    {
     "name": "stdout",
     "output_type": "stream",
     "text": [
      "octopuses have tentacles\n",
      "dolphins have fins\n",
      "rhinos have horns\n"
     ]
    }
   ],
   "source": [
    "cool_beasts = {\"octopuses\":\"tentacles\", \"dolphins\":\"fins\", \"rhinos\":\"horns\"}\n",
    "for animal, n in cool_beasts.items():\n",
    "    print(\"{} have {}\".format(animal, n))"
   ]
  },
  {
   "cell_type": "markdown",
   "id": "confident-tuner",
   "metadata": {},
   "source": [
    "#### Dictionaries vs. Lists"
   ]
  },
  {
   "cell_type": "code",
   "execution_count": null,
   "id": "informative-homeless",
   "metadata": {},
   "outputs": [],
   "source": [
    "\"\"\"\n",
    "Question\n",
    "In Python, a dictionary can only hold a single value for a given key. \n",
    "To workaround this, our single value can be a list containing multiple values. \n",
    "Here we have a dictionary called \"wardrobe\" with items of clothing and their colors. \n",
    "Fill in the blanks to print a line for each item of clothing with each color, \n",
    "for example: \"red shirt\", \"blue shirt\", and so on.\n",
    "\"\"\"\n",
    "\n",
    "wardrobe = {\"shirt\":[\"red\",\"blue\",\"white\"], \"jeans\":[\"blue\",\"black\"]}\n",
    "count = 0\n",
    "for key, value in wardrobe.items():\n",
    "\tfor i in value:\n",
    "\t\tprint(\"{} {}\".format(i, key))"
   ]
  },
  {
   "cell_type": "markdown",
   "id": "laden-tension",
   "metadata": {},
   "source": [
    "# Practice Quiz: Dictionaries"
   ]
  },
  {
   "cell_type": "code",
   "execution_count": 6,
   "id": "unable-optimum",
   "metadata": {},
   "outputs": [
    {
     "name": "stdout",
     "output_type": "stream",
     "text": [
      "['clark.kent@gmail.com', 'diana.prince@gmail.com', 'peter.parker@gmail.com', 'barbara.gordon@yahoo.com', 'jean.grey@yahoo.com', 'bruce.wayne@hotmail.com']\n"
     ]
    }
   ],
   "source": [
    "\"\"\"\n",
    "Question 1\n",
    "The email_list function receives a dictionary, which contains domain names as keys, \n",
    "and a list of users as values. Fill in the blanks to generate a list that contains complete \n",
    "email addresses (e.g. diana.prince@gmail.com).\n",
    "\"\"\"\n",
    "\n",
    "def email_list(domains):\n",
    "        emails = []\n",
    "        for names, users in domains.items():\n",
    "          for user in users:\n",
    "            emails.append(user+\"@\"+names)\n",
    "        return(emails)\n",
    "\n",
    "   \n",
    "\n",
    "print(email_list({\"gmail.com\": [\"clark.kent\", \"diana.prince\", \"peter.parker\"], \"yahoo.com\": [\"barbara.gordon\", \"jean.grey\"], \"hotmail.com\": [\"bruce.wayne\"]}))"
   ]
  },
  {
   "cell_type": "code",
   "execution_count": 7,
   "id": "moved-timber",
   "metadata": {},
   "outputs": [
    {
     "name": "stdout",
     "output_type": "stream",
     "text": [
      "{'admin': ['local', 'public', 'administrator'], 'userA': ['local'], 'userB': ['public']}\n"
     ]
    }
   ],
   "source": [
    "\"\"\"\n",
    "Question 2\n",
    "The groups_per_user function receives a dictionary, \n",
    "which contains group names with the list of users. \n",
    "Users can belong to multiple groups. \n",
    "Fill in the blanks to return a dictionary with the users as keys and a list of their groups as values.\n",
    "\"\"\"\n",
    "\n",
    "def groups_per_user(group_dictionary):\n",
    "\tuser_groups = {}\n",
    "\t# Go through group_dictionary\n",
    "\tfor group, users in group_dictionary.items():\n",
    "\t\t# Now go through the users in the group\n",
    "\t\tfor users in group_dictionary[group]:\n",
    "\t\t\tif users in user_groups:\n",
    "\t\t\t\tuser_groups[users].append(group)\n",
    "\t\t\telse:\n",
    "\t\t\t\tuser_groups[users] = [group]\n",
    "\t\t\t# Now add the group to the the list of\n",
    "# groups for this user, creating the entry\n",
    "# in the dictionary if necessary\n",
    "\n",
    "\treturn(user_groups)\n",
    "\n",
    "print(groups_per_user({\"local\": [\"admin\", \"userA\"],\n",
    "\t\t\"public\":  [\"admin\", \"userB\"],\n",
    "\t\t\"administrator\": [\"admin\"] }))"
   ]
  },
  {
   "cell_type": "code",
   "execution_count": 8,
   "id": "circular-group",
   "metadata": {},
   "outputs": [
    {
     "name": "stdout",
     "output_type": "stream",
     "text": [
      "28.44\n"
     ]
    }
   ],
   "source": [
    "\"\"\"\n",
    "Question 5\n",
    "The add_prices function returns the total price of all of the groceries in the  dictionary. \n",
    "Fill in the blanks to complete this function.\n",
    "\"\"\"\n",
    "\n",
    "def add_prices(basket):\n",
    "\t# Initialize the variable that will be used for the calculation\n",
    "\ttotal = 0\n",
    "\t# Iterate through the dictionary items\n",
    "\tfor items, price in basket.items():\n",
    "\t\t# Add each price to the total calculation\n",
    "\t\t# Hint: how do you access the values of\n",
    "\t\t# dictionary items?\n",
    "\t\ttotal += price\n",
    "\t# Limit the return value to 2 decimal places\n",
    "\treturn round(total, 2)  \n",
    "\n",
    "groceries = {\"bananas\": 1.56, \"apples\": 2.50, \"oranges\": 0.99, \"bread\": 4.59, \n",
    "\t\"coffee\": 6.99, \"milk\": 3.39, \"eggs\": 2.98, \"cheese\": 5.44}\n",
    "\n",
    "print(add_prices(groceries)) # Should print 28.44\n"
   ]
  },
  {
   "cell_type": "markdown",
   "id": "professional-holocaust",
   "metadata": {},
   "source": [
    "# Module 4 Graded Assessment"
   ]
  },
  {
   "cell_type": "code",
   "execution_count": 9,
   "id": "impaired-girlfriend",
   "metadata": {},
   "outputs": [
    {
     "name": "stdout",
     "output_type": "stream",
     "text": [
      "house number 123 on street named Main Street \n",
      "house number 1001 on street named 1st Ave \n",
      "house number 55 on street named North Center Drive \n"
     ]
    }
   ],
   "source": [
    "\"\"\"\n",
    "1.Question 1\n",
    "The format_address function separates out parts of the address string into new strings: house_number and street_name, and returns: \"house number X on street named Y\". The format of the input string is: numeric house number, followed by the street name which may contain numbers, but never by themselves, and could be several words long. For example, \"123 Main Street\", \"1001 1st Ave\", or \"55 North Center Drive\". \n",
    "Fill in the gaps to complete this function.\n",
    "\n",
    "\"\"\"\n",
    "\n",
    "\n",
    "def format_address(address_string):\n",
    "  # Declare variables\n",
    "  house_no = \"\"\n",
    "  street_no = \"\"\n",
    "  # Separate the address string into parts\n",
    "  sep_addr = address_string.split()\n",
    "  # Traverse through the address parts\n",
    "  for addr in sep_addr:\n",
    "    # Determine if the address part is the\n",
    "    if addr.isdigit():\n",
    "      house_no = addr\n",
    "    else:\n",
    "      street_no = street_no+addr\n",
    "      street_no = street_no + \" \"\n",
    "    # house number or part of the street name\n",
    "\n",
    "  # Does anything else need to be done \n",
    "  # before returning the result?\n",
    "  \n",
    "  # Return the formatted string  \n",
    "  return \"house number {} on street named {}\".format(house_no,street_no)\n",
    "\n",
    "print(format_address(\"123 Main Street\"))\n",
    "# Should print: \"house number 123 on street named Main Street\"\n",
    "\n",
    "print(format_address(\"1001 1st Ave\"))\n",
    "# Should print: \"house number 1001 on street named 1st Ave\"\n",
    "\n",
    "print(format_address(\"55 North Center Drive\"))\n",
    "# Should print \"house number 55 on street named North Center Drive\""
   ]
  },
  {
   "cell_type": "code",
   "execution_count": null,
   "id": "floral-academy",
   "metadata": {},
   "outputs": [],
   "source": [
    "\"\"\"\n",
    "2.Question 2\n",
    "The highlight_word function changes the given word in a sentence to its upper-case version. For example, highlight_word(\"Have a nice day\", \"nice\") returns \"Have a NICE day\". \n",
    "Can you write this function in just one line?\n",
    "\"\"\"\n",
    "\n",
    "def highlight_word(sentence, word):\n",
    "\treturn(sentence.replace(word,word.upper()))\n",
    "\n",
    "print(highlight_word(\"Have a nice day\", \"nice\"))\n",
    "print(highlight_word(\"Shhh, don't be so loud!\", \"loud\"))\n",
    "print(highlight_word(\"Automating with Python is fun\", \"fun\"))"
   ]
  },
  {
   "cell_type": "code",
   "execution_count": null,
   "id": "robust-conducting",
   "metadata": {},
   "outputs": [],
   "source": [
    "\"\"\"\n",
    "3.Question 3\n",
    "A professor with two assistants, Jamie and Drew, wants an attendance list of the students, \n",
    "in the order that they arrived in the classroom. Drew was the first one to note which students \n",
    "arrived, and then Jamie took over. After the class, they each entered their lists into the computer \n",
    "and emailed them to the professor, who needs to combine them into one, in the order of each student's \n",
    "arrival. Jamie emailed a follow-up, saying that her list is in reverse order. Complete the steps to \n",
    "combine them into one list as follows: the contents of Drew's list, followed by Jamie's list in reverse order, \n",
    "to get an accurate list of the students as they arrived.\n",
    "\"\"\"\n",
    "\n",
    "def combine_lists(list1, list2):\n",
    "  # Generate a new list containing the elements of list2\n",
    "  # Followed by the elements of list1 in reverse order\n",
    "  new_list = list2\n",
    "  for i in reversed(range(len(list1))):\n",
    "    new_list.append(list1[i])\n",
    "  return new_list\n",
    "\n",
    "Jamies_list = [\"Alice\", \"Cindy\", \"Bobby\", \"Jan\", \"Peter\"]\n",
    "Drews_list = [\"Mike\", \"Carol\", \"Greg\", \"Marcia\"]"
   ]
  },
  {
   "cell_type": "code",
   "execution_count": 10,
   "id": "weekly-viewer",
   "metadata": {},
   "outputs": [
    {
     "name": "stdout",
     "output_type": "stream",
     "text": [
      "[4, 9]\n",
      "[1, 4, 9, 16, 25]\n",
      "[0, 1, 4, 9, 16, 25, 36, 49, 64, 81, 100]\n"
     ]
    }
   ],
   "source": [
    "\"\"\"\n",
    "4.Question 4\n",
    "Use a list comprehension to create a list of squared numbers (n*n). \n",
    "The function receives the variables start and end, and returns a list of squares of consecutive numbers \n",
    "between start and end inclusively. \n",
    "For example, squares(2, 3) should return [4, 9].\n",
    "\"\"\"\n",
    "\n",
    "def squares(start, end):\n",
    "    return [(x*x) for x in range(start,end+1)]\n",
    "\n",
    "print(squares(2, 3)) # Should be [4, 9]\n",
    "print(squares(1, 5)) # Should be [1, 4, 9, 16, 25]\n",
    "print(squares(0, 10)) # Should be [0, 1, 4, 9, 16, 25, 36, 49, 64, 81, 100]"
   ]
  },
  {
   "cell_type": "code",
   "execution_count": 11,
   "id": "acoustic-florida",
   "metadata": {},
   "outputs": [
    {
     "name": "stdout",
     "output_type": "stream",
     "text": [
      "Kia Soul costs 19000 dollars\n",
      "Lamborghini Diablo costs 55000 dollars\n",
      "Ford Fiesta costs 13000 dollars\n",
      "Toyota Prius costs 24000 dollars\n",
      "\n"
     ]
    }
   ],
   "source": [
    "\"\"\"\n",
    "5.Question 5\n",
    "Complete the code to iterate through the keys and values of the car_prices dictionary, \n",
    "printing out some information about each one.\n",
    "\n",
    "\"\"\"\n",
    "\n",
    "def car_listing(car_prices):\n",
    "  result = \"\"\n",
    "  for key,value in car_prices.items():\n",
    "    result += \"{} costs {} dollars\".format(key,value) + \"\\n\"\n",
    "  return result\n",
    "\n",
    "print(car_listing({\"Kia Soul\":19000, \"Lamborghini Diablo\":55000, \"Ford Fiesta\":13000, \"Toyota Prius\":24000}))"
   ]
  },
  {
   "cell_type": "code",
   "execution_count": 12,
   "id": "binding-superintendent",
   "metadata": {},
   "outputs": [
    {
     "name": "stdout",
     "output_type": "stream",
     "text": [
      "{'Adam': 2, 'Brenda': 3, 'David': 1, 'Jose': 3, 'Charlotte': 2, 'Terry': 1, 'Robert': 4, 'Nancy': 1, 'Samantha': 3, 'Chris': 5}\n"
     ]
    }
   ],
   "source": [
    "\"\"\"\n",
    "6.Question 6\n",
    "Taylor and Rory are hosting a party. They sent out invitations, and each one collected responses \n",
    "into dictionaries, with names of their friends and how many guests each friend is bringing. \n",
    "Each dictionary is a partial list, but Rory's list has more current information about the number of guests. \n",
    "Fill in the blanks to combine both dictionaries into one, with each friend listed only once, and the number \n",
    "of guests from Rory's dictionary taking precedence, if a name is included in both dictionaries. \n",
    "Then print the resulting dictionary.\n",
    "\"\"\"\n",
    "\n",
    "from copy import deepcopy\n",
    "\n",
    "def combine_guests(guests1, guests2):\n",
    "    backup = deepcopy(guests1)\n",
    "    guests1.update(guests2)\n",
    "    for guest in guests1:\n",
    "        if guest in backup:\n",
    "            guests1[guest] = backup[guest]\n",
    "    return guests1\n",
    "\n",
    "Rorys_guests = { \"Adam\":2, \"Brenda\":3, \"David\":1, \"Jose\":3, \"Charlotte\":2, \"Terry\":1, \"Robert\":4}\n",
    "Taylors_guests = { \"David\":4, \"Nancy\":1, \"Robert\":2, \"Adam\":1, \"Samantha\":3, \"Chris\":5}\n",
    "\n",
    "print(combine_guests(Rorys_guests, Taylors_guests))"
   ]
  },
  {
   "cell_type": "code",
   "execution_count": 13,
   "id": "decent-alabama",
   "metadata": {},
   "outputs": [
    {
     "name": "stdout",
     "output_type": "stream",
     "text": [
      "{'a': 2, 'b': 2, 'c': 2}\n",
      "{'m': 1, 'a': 1, 't': 1, 'h': 1, 'i': 1, 's': 1, 'f': 1, 'u': 1, 'n': 1}\n",
      "{'t': 2, 'h': 1, 'i': 2, 's': 3, 'a': 1, 'e': 3, 'n': 2, 'c': 1}\n"
     ]
    }
   ],
   "source": [
    "\"\"\"\n",
    "7.Question 7\n",
    "Use a dictionary to count the frequency of letters in the input string. Only letters should be counted, not blank spaces, numbers, or punctuation. Upper case should be considered the same as lower case. For example, count_letters(\"This is a sentence.\") should return {'t': 2, 'h': 1, 'i': 2, 's': 3, 'a': 1, 'e': 3, 'n': 2, 'c': 1}.\n",
    "\"\"\"\n",
    "\n",
    "def count_letters(text):\n",
    "    elements = text.replace(\" \",\"\").lower()\n",
    "    result = {}\n",
    "    for letter in elements:\n",
    "        if letter.isalpha():            \n",
    "            if letter not in result:\n",
    "                result[letter] = 1\n",
    "            else:\n",
    "                result[letter] +=1\n",
    "    return result        \n",
    "print(count_letters(\"AaBbCc\"))\n",
    "# Should be {'a': 2, 'b': 2, 'c': 2}\n",
    "\n",
    "print(count_letters(\"Math is fun! 2+2=4\"))\n",
    "# Should be {'m': 1, 'a': 1, 't': 1, 'h': 1, 'i': 1, 's': 1, 'f': 1, 'u': 1, 'n': 1}\n",
    "\n",
    "print(count_letters(\"This is a sentence.\"))\n",
    "# Should be {'t': 2, 'h': 1, 'i': 2, 's': 3, 'a': 1, 'e': 3, 'n': 2, 'c': 1}"
   ]
  },
  {
   "cell_type": "code",
   "execution_count": null,
   "id": "rough-concrete",
   "metadata": {},
   "outputs": [],
   "source": []
  }
 ],
 "metadata": {
  "kernelspec": {
   "display_name": "Python 3",
   "language": "python",
   "name": "python3"
  },
  "language_info": {
   "codemirror_mode": {
    "name": "ipython",
    "version": 3
   },
   "file_extension": ".py",
   "mimetype": "text/x-python",
   "name": "python",
   "nbconvert_exporter": "python",
   "pygments_lexer": "ipython3",
   "version": "3.8.5"
  }
 },
 "nbformat": 4,
 "nbformat_minor": 5
}
