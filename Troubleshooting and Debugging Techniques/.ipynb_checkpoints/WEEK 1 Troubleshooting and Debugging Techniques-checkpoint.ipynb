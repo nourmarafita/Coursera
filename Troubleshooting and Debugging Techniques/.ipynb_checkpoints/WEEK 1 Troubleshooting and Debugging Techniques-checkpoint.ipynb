{
 "cells": [
  {
   "cell_type": "markdown",
   "id": "educational-nature",
   "metadata": {},
   "source": [
    "# Practice Quiz: Understanding the Problem"
   ]
  },
  {
   "cell_type": "markdown",
   "id": "modern-treat",
   "metadata": {},
   "source": [
    "3.The compare_strings function is supposed to compare just the alphanumeric content of two strings, ignoring upper vs lower case and punctuation. But something is not working. Fill in the code to try to find the problems, then fix the problems."
   ]
  },
  {
   "cell_type": "code",
   "execution_count": 1,
   "id": "expired-alarm",
   "metadata": {},
   "outputs": [
    {
     "name": "stdout",
     "output_type": "stream",
     "text": [
      "True\n",
      "True\n",
      "False\n",
      "False\n"
     ]
    }
   ],
   "source": [
    "import re\n",
    "def compare_strings(string1, string2):\n",
    "  #Convert both strings to lowercase \n",
    "  #and remove leading and trailing blanks\n",
    "  string1 = string1.lower().strip()\n",
    "  string2 = string2.lower().strip()\n",
    "\n",
    "  #Ignore punctuation\n",
    "  punctuation = r\"[.?!,;:\\-']\"\n",
    "  string1 = re.sub(punctuation, r\"\", string1)\n",
    "  string2 = re.sub(punctuation, r\"\", string2)\n",
    "\n",
    "  #DEBUG CODE GOES HERE\n",
    "  return string1 == string2\n",
    "\n",
    "print(compare_strings(\"Have a Great Day!\", \"Have a great day?\")) # True\n",
    "print(compare_strings(\"It's raining again.\", \"its raining, again\")) # True\n",
    "print(compare_strings(\"Learn to count: 1, 2, 3.\", \"Learn to count: one, two, three.\")) # False\n",
    "print(compare_strings(\"They found some body.\", \"They found somebody.\")) # False"
   ]
  },
  {
   "cell_type": "markdown",
   "id": "solar-steering",
   "metadata": {},
   "source": [
    "5.Question 5\n",
    "The datetime module supplies classes for manipulating dates and times, and contains many types, objects, and methods. You've seen some of them used in the dow function, which returns the day of the week for a specific date. We'll use them again in the next_date function, which takes the date_string parameter in the format of \"year-month-day\", and uses the add_year function to calculate the next year that this date will occur (it's 4 years later for the 29th of February during Leap Year, and 1 year later for all other dates). Then it returns the value in the same format as it receives the date: \"year-month-day\".   \n",
    "\n",
    "Can you find the error in the code? Is it in the next_date function or the add_year function? How can you determine if the add_year function returns what it's supposed to? Add debug lines as necessary to find the problems, then fix the code to work as indicated above. "
   ]
  },
  {
   "cell_type": "code",
   "execution_count": 2,
   "id": "incomplete-shanghai",
   "metadata": {},
   "outputs": [
    {
     "name": "stdout",
     "output_type": "stream",
     "text": [
      "2022-03-12\n",
      "2022-01-01\n",
      "2024-02-29\n"
     ]
    }
   ],
   "source": [
    "import datetime\n",
    "from datetime import date\n",
    "\n",
    "def add_year(date_obj):\n",
    "  try:\n",
    "    new_date_obj = date_obj.replace(year = date_obj.year + 1)\n",
    "  except ValueError:\n",
    "    # This gets executed when the above method fails, \n",
    "    # which means that we're making a Leap Year calculation\n",
    "    new_date_obj = date_obj.replace(year = date_obj.year + 4)\n",
    "  return new_date_obj\n",
    "\n",
    "def next_date(date_string):\n",
    "  # Convert the argument from string to date object\n",
    "  date_obj = datetime.datetime.strptime(date_string, r\"%Y-%m-%d\")\n",
    "  next_date_obj = add_year(date_obj)\n",
    "\n",
    "  # Convert the datetime object to string, \n",
    "  # in the format of \"yyyy-mm-dd\"\n",
    "  next_date_string = next_date_obj.strftime(\"%Y-%m-%d\")\n",
    "  return next_date_string\n",
    "\n",
    "today = date.today()  # Get today's date\n",
    "print(next_date(str(today))) \n",
    "# Should return a year from today, unless today is Leap Day\n",
    "\n",
    "print(next_date(\"2021-01-01\")) # Should return 2022-01-01\n",
    "print(next_date(\"2020-02-29\")) # Should return 2024-02-29"
   ]
  },
  {
   "cell_type": "markdown",
   "id": "worse-decimal",
   "metadata": {},
   "source": [
    "# Practice Quiz: Binary Searching a Problem"
   ]
  },
  {
   "cell_type": "markdown",
   "id": "attended-corpus",
   "metadata": {},
   "source": [
    "2.The find_item function uses binary search to recursively locate an item in the list, returning True if found, False otherwise. Something is missing from this function. Can you spot what it is and fix it? Add debug lines where appropriate, to help narrow down the problem."
   ]
  },
  {
   "cell_type": "code",
   "execution_count": 3,
   "id": "detected-notebook",
   "metadata": {},
   "outputs": [
    {
     "name": "stdout",
     "output_type": "stream",
     "text": [
      "True\n",
      "False\n",
      "True\n",
      "False\n"
     ]
    }
   ],
   "source": [
    "def find_item(list, item):\n",
    "  #Returns True if the item is in the list, False if not.\n",
    "  if len(list) == 0:\n",
    "    return False\n",
    "\n",
    "  # In order to use binary search, list needs to be sorted\n",
    "  list.sort()\n",
    "  \n",
    "  #Is the item in the center of the list?\n",
    "  middle = len(list)//2\n",
    "  if list[middle] == item:\n",
    "    return True\n",
    "\n",
    "  #Is the item in the first half of the list? \n",
    "  if item < list[middle]:\n",
    "    #Call the function with the first half of the list\n",
    "    return find_item(list[:middle], item)\n",
    "  else:\n",
    "    #Call the function with the second half of the list\n",
    "    return find_item(list[middle+1:], item)\n",
    "\n",
    "  return False\n",
    "\n",
    "#Do not edit below this line - This code helps check your work!\n",
    "list_of_names = [\"Parker\", \"Drew\", \"Cameron\", \"Logan\", \"Alex\", \"Chris\", \"Terry\", \"Jamie\", \"Jordan\", \"Taylor\"]\n",
    "\n",
    "print(find_item(list_of_names, \"Alex\")) # True\n",
    "print(find_item(list_of_names, \"Andrew\")) # False\n",
    "print(find_item(list_of_names, \"Drew\")) # True\n",
    "print(find_item(list_of_names, \"Jared\")) # False"
   ]
  },
  {
   "cell_type": "markdown",
   "id": "stuffed-geology",
   "metadata": {},
   "source": [
    "3.The binary_search function returns the position of key in the list if found, or -1 if not found. We want to make sure that it's working correctly, so we need to place debugging lines to let us know each time that the list is cut in half, whether we're on the left or the right. Nothing needs to be printed when the key has been located.   \n",
    "\n",
    "For example, binary_search([1, 2, 3, 4, 5, 6, 7, 8, 9, 10], 3) first determines that the key, 3, is in the left half of the list, and prints \"Checking the left side\", then determines that it's in the right half of the new list and prints \"Checking the right side\", before returning the value of 2, which is the position of the key in the list.  \n",
    "\n",
    "Add commands to the code, to print out \"Checking the left side\" or \"Checking the right side\", in the appropriate places."
   ]
  },
  {
   "cell_type": "code",
   "execution_count": 7,
   "id": "popular-equity",
   "metadata": {},
   "outputs": [
    {
     "name": "stdout",
     "output_type": "stream",
     "text": [
      "Checking the left side\n",
      "Checking the left side\n",
      "0\n",
      "4\n",
      "Checking the right side\n",
      "Checking the left side\n",
      "Checking the right side\n",
      "6\n",
      "Checking the right side\n",
      "Checking the right side\n",
      "Checking the right side\n",
      "9\n",
      "Checking the right side\n",
      "Checking the right side\n",
      "Checking the right side\n",
      "Checking the right side\n",
      "-1\n"
     ]
    },
    {
     "data": {
      "text/plain": [
       "'Should print 4 debug lines and the \"not found\" value of -1:\\nChecking the right side\\nChecking the right side\\nChecking the right side\\nChecking the right side\\n-1\\n'"
      ]
     },
     "execution_count": 7,
     "metadata": {},
     "output_type": "execute_result"
    }
   ],
   "source": [
    "def binary_search(list, key):\n",
    "    #Returns the position of key in the list if found, -1 otherwise.\n",
    "\n",
    "    #List must be sorted:\n",
    "    list.sort()\n",
    "    left = 0\n",
    "    right = len(list) - 1\n",
    "\n",
    "    while left <= right:\n",
    "        middle = (left + right) // 2\n",
    "\n",
    "        if list[middle] == key:\n",
    "            return middle\n",
    "        if list[middle] > key:\n",
    "            print(\"Checking the left side\")\n",
    "            right = middle - 1\n",
    "        if list[middle] < key:\n",
    "            print(\"Checking the right side\")\n",
    "            left = middle + 1\n",
    "    return -1 \n",
    "\n",
    "print(binary_search([10, 2, 9, 6, 7, 1, 5, 3, 4, 8], 1))\n",
    "\"\"\"Should print 2 debug lines and the return value:\n",
    "Checking the left side\n",
    "Checking the left side\n",
    "0\n",
    "\"\"\"\n",
    "\n",
    "print(binary_search([1, 2, 3, 4, 5, 6, 7, 8, 9, 10], 5))\n",
    "\"\"\"Should print no debug lines, as it's located immediately:\n",
    "4\n",
    "\"\"\"\n",
    "\n",
    "print(binary_search([10, 9, 8, 7, 6, 5, 4, 3, 2, 1], 7))\n",
    "\"\"\"Should print 3 debug lines and the return value:\n",
    "Checking the right side\n",
    "Checking the left side\n",
    "Checking the right side\n",
    "6\n",
    "\"\"\"\n",
    "\n",
    "print(binary_search([1, 3, 5, 7, 9, 10, 2, 4, 6, 8], 10))\n",
    "\"\"\"Should print 3 debug lines and the return value:\n",
    "Checking the right side\n",
    "Checking the right side\n",
    "Checking the right side\n",
    "9\n",
    "\"\"\"\n",
    "\n",
    "print(binary_search([5, 1, 8, 2, 4, 10, 7, 6, 3, 9], 11))\n",
    "\"\"\"Should print 4 debug lines and the \"not found\" value of -1:\n",
    "Checking the right side\n",
    "Checking the right side\n",
    "Checking the right side\n",
    "Checking the right side\n",
    "-1\n",
    "\"\"\""
   ]
  },
  {
   "cell_type": "markdown",
   "id": "banner-michigan",
   "metadata": {},
   "source": [
    "5.The best_search function compares linear_search and binary_search functions, to locate a key in the list, and returns how many steps each method took, and which one is the best for that situation. The list does not need to be sorted, as the binary_search function sorts it before proceeding (and uses one step to do so). Here, linear_search and binary_search functions both return the number of steps that it took to either locate the key, or determine that it's not in the list. If the number of steps is the same for both methods (including the extra step for sorting in binary_search), then the result is a tie. Fill in the blanks to make this work. "
   ]
  },
  {
   "cell_type": "code",
   "execution_count": 6,
   "id": "available-bundle",
   "metadata": {},
   "outputs": [
    {
     "name": "stdout",
     "output_type": "stream",
     "text": [
      "Linear: 1 steps, Binary: 4 steps. Best Search is Linear.\n",
      "Linear: 4 steps, Binary: 4 steps. Result is a Tie.\n",
      "Linear: 4 steps, Binary: 5 steps. Best Search is Linear.\n",
      "Linear: 6 steps, Binary: 5 steps. Best Search is Binary.\n",
      "Linear: 10 steps, Binary: 5 steps. Best Search is Binary.\n"
     ]
    }
   ],
   "source": [
    "def linear_search(a_list, key):\n",
    "    #Returns the number of steps to determine if key is in the list \n",
    "\n",
    "    #Initialize the counter of steps\n",
    "    steps=0\n",
    "    for i, item in enumerate(a_list):\n",
    "        steps += 1\n",
    "        if item == key:\n",
    "            break\n",
    "    return steps\n",
    "\n",
    "def binary_search(a_list, key):\n",
    "    #Returns the number of steps to determine if key is in the list \n",
    "\n",
    "    #List must be sorted:\n",
    "    a_list.sort()\n",
    "\n",
    "    #The Sort was 1 step, so initialize the counter of steps to 1\n",
    "    steps=1\n",
    "\n",
    "    left = 0\n",
    "    right = len(a_list) - 1\n",
    "    while left <= right:\n",
    "        steps += 1\n",
    "        middle = (left + right) // 2\n",
    "        \n",
    "        if a_list[middle] == key:\n",
    "            break\n",
    "        if a_list[middle] > key:\n",
    "            right = middle - 1\n",
    "        if a_list[middle] < key:\n",
    "            left = middle + 1\n",
    "    return steps\n",
    "\n",
    "def best_search(a_list, key):\n",
    "    steps_linear = linear_search(a_list, key)\n",
    "    steps_binary = binary_search(a_list, key) \n",
    "    results = \"Linear: \" + str(steps_linear) + \" steps, \"\n",
    "    results += \"Binary: \" + str(steps_binary) + \" steps. \"\n",
    "    if (steps_linear < steps_binary):\n",
    "        results += \"Best Search is Linear.\"\n",
    "    elif (steps_binary < steps_linear):\n",
    "        results += \"Best Search is Binary.\"\n",
    "    else:\n",
    "        results += \"Result is a Tie.\"\n",
    "\n",
    "    return results\n",
    "\n",
    "print(best_search([1, 2, 3, 4, 5, 6, 7, 8, 9, 10], 1))\n",
    "#Should be: Linear: 1 steps, Binary: 4 steps. Best Search is Linear.\n",
    "\n",
    "print(best_search([10, 2, 9, 1, 7, 5, 3, 4, 6, 8], 1))\n",
    "#Should be: Linear: 4 steps, Binary: 4 steps. Result is a Tie.\n",
    "\n",
    "print(best_search([10, 9, 8, 7, 6, 5, 4, 3, 2, 1], 7))\n",
    "#Should be: Linear: 4 steps, Binary: 5 steps. Best Search is Linear.\n",
    "\n",
    "print(best_search([1, 3, 5, 7, 9, 10, 2, 4, 6, 8], 10))\n",
    "#Should be: Linear: 6 steps, Binary: 5 steps. Best Search is Binary.\n",
    "\n",
    "print(best_search([5, 1, 8, 2, 4, 10, 7, 6, 3, 9], 11))\n",
    "#Should be: Linear: 10 steps, Binary: 5 steps. Best Search is Binary."
   ]
  },
  {
   "cell_type": "code",
   "execution_count": null,
   "id": "honey-military",
   "metadata": {},
   "outputs": [],
   "source": []
  }
 ],
 "metadata": {
  "kernelspec": {
   "display_name": "Python 3",
   "language": "python",
   "name": "python3"
  },
  "language_info": {
   "codemirror_mode": {
    "name": "ipython",
    "version": 3
   },
   "file_extension": ".py",
   "mimetype": "text/x-python",
   "name": "python",
   "nbconvert_exporter": "python",
   "pygments_lexer": "ipython3",
   "version": "3.8.5"
  }
 },
 "nbformat": 4,
 "nbformat_minor": 5
}
