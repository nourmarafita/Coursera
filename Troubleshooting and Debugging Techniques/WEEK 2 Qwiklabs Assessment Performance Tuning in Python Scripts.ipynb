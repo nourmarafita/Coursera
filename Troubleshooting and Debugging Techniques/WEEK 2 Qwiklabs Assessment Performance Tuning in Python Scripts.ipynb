{
 "cells": [
  {
   "cell_type": "markdown",
   "id": "typical-basics",
   "metadata": {},
   "source": [
    "# Qwiklabs Assessment: Performance Tuning in Python Scripts"
   ]
  },
  {
   "cell_type": "markdown",
   "id": "maritime-portal",
   "metadata": {},
   "source": [
    "https://googlecoursera.qwiklabs.com/focuses/47754"
   ]
  },
  {
   "cell_type": "markdown",
   "id": "expired-corpus",
   "metadata": {},
   "source": [
    "dailysync.py"
   ]
  },
  {
   "cell_type": "code",
   "execution_count": null,
   "id": "actual-carroll",
   "metadata": {},
   "outputs": [],
   "source": [
    "#!/usr/bin/env python3\n",
    "\n",
    "from multiprocessing import Pool\n",
    "import multiprocessing\n",
    "import subprocess\n",
    "import os\n",
    "\n",
    "home_path = os.path.expanduser('~')\n",
    "src = home_path + \"/data/prod/\"\n",
    "dest = home_path + \"/data/prod_backup/\"\n",
    "\n",
    "if __name__ == \"__main__\":\n",
    "    pool = Pool(multiprocessing.cpu_count())\n",
    "    pool.apply(subprocess.call, args=([\"rsync\", \"-arq\", src, dest],))"
   ]
  }
 ],
 "metadata": {
  "kernelspec": {
   "display_name": "Python 3",
   "language": "python",
   "name": "python3"
  },
  "language_info": {
   "codemirror_mode": {
    "name": "ipython",
    "version": 3
   },
   "file_extension": ".py",
   "mimetype": "text/x-python",
   "name": "python",
   "nbconvert_exporter": "python",
   "pygments_lexer": "ipython3",
   "version": "3.8.5"
  }
 },
 "nbformat": 4,
 "nbformat_minor": 5
}
