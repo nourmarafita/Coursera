{
 "cells": [
  {
   "cell_type": "markdown",
   "id": "binding-batman",
   "metadata": {},
   "source": [
    "# Qwiklabs Assessment: Fixing Errors in Python Scripts"
   ]
  },
  {
   "cell_type": "markdown",
   "id": "outer-engagement",
   "metadata": {},
   "source": [
    "https://googlecoursera.qwiklabs.com/focuses/47751"
   ]
  },
  {
   "cell_type": "code",
   "execution_count": null,
   "id": "quick-wallace",
   "metadata": {},
   "outputs": [],
   "source": []
  }
 ],
 "metadata": {
  "kernelspec": {
   "display_name": "Python 3",
   "language": "python",
   "name": "python3"
  },
  "language_info": {
   "codemirror_mode": {
    "name": "ipython",
    "version": 3
   },
   "file_extension": ".py",
   "mimetype": "text/x-python",
   "name": "python",
   "nbconvert_exporter": "python",
   "pygments_lexer": "ipython3",
   "version": "3.8.5"
  }
 },
 "nbformat": 4,
 "nbformat_minor": 5
}
