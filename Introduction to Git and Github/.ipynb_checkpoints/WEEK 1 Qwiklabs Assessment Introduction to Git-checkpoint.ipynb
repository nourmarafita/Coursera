{
 "cells": [
  {
   "cell_type": "markdown",
   "id": "understood-wisdom",
   "metadata": {},
   "source": [
    "# Introduction to Git"
   ]
  },
  {
   "cell_type": "markdown",
   "id": "facial-soldier",
   "metadata": {},
   "source": [
    "https://googlecoursera.qwiklabs.com/focuses/47748"
   ]
  },
  {
   "cell_type": "code",
   "execution_count": null,
   "id": "third-produce",
   "metadata": {},
   "outputs": [],
   "source": []
  }
 ],
 "metadata": {
  "kernelspec": {
   "display_name": "Python 3",
   "language": "python",
   "name": "python3"
  },
  "language_info": {
   "codemirror_mode": {
    "name": "ipython",
    "version": 3
   },
   "file_extension": ".py",
   "mimetype": "text/x-python",
   "name": "python",
   "nbconvert_exporter": "python",
   "pygments_lexer": "ipython3",
   "version": "3.8.5"
  }
 },
 "nbformat": 4,
 "nbformat_minor": 5
}
