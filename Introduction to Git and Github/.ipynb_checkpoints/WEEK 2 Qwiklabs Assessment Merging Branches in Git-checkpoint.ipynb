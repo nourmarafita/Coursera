{
 "cells": [
  {
   "cell_type": "markdown",
   "id": "metallic-collection",
   "metadata": {},
   "source": [
    "# Qwiklabs Assessment: Merging Branches in Git"
   ]
  },
  {
   "cell_type": "markdown",
   "id": "timely-hybrid",
   "metadata": {},
   "source": [
    "https://googlecoursera.qwiklabs.com/focuses/47756"
   ]
  },
  {
   "cell_type": "code",
   "execution_count": null,
   "id": "solid-highway",
   "metadata": {},
   "outputs": [],
   "source": []
  }
 ],
 "metadata": {
  "kernelspec": {
   "display_name": "Python 3",
   "language": "python",
   "name": "python3"
  },
  "language_info": {
   "codemirror_mode": {
    "name": "ipython",
    "version": 3
   },
   "file_extension": ".py",
   "mimetype": "text/x-python",
   "name": "python",
   "nbconvert_exporter": "python",
   "pygments_lexer": "ipython3",
   "version": "3.8.5"
  }
 },
 "nbformat": 4,
 "nbformat_minor": 5
}
