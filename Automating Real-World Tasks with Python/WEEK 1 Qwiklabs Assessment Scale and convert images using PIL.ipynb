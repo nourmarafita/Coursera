{
 "cells": [
  {
   "cell_type": "markdown",
   "id": "twelve-investment",
   "metadata": {},
   "source": [
    "# Qwiklabs Assessment: Scale and convert images using PIL"
   ]
  },
  {
   "cell_type": "markdown",
   "id": "final-volume",
   "metadata": {},
   "source": [
    "fix_img.py"
   ]
  },
  {
   "cell_type": "code",
   "execution_count": null,
   "id": "major-threat",
   "metadata": {},
   "outputs": [],
   "source": [
    "#!/usr/bin/env python3\n",
    "import os, sys\n",
    "from PIL import Image\n",
    "\n",
    "size = (128, 128)\n",
    "\n",
    "for infile in os.listdir():\n",
    "   outfile = os.path.splitext(infile)[0]\n",
    "   try:\n",
    "     with Image.open(infile).convert('RGB') as im:\n",
    "        im.thumbnail(size)\n",
    "        im.rotate(270).save(\"/opt/icons/\" + outfile, \"JPEG\")\n",
    "   except OSError:\n",
    "     pass"
   ]
  },
  {
   "cell_type": "markdown",
   "id": "major-draft",
   "metadata": {},
   "source": [
    "script.sh"
   ]
  },
  {
   "cell_type": "code",
   "execution_count": null,
   "id": "changed-conducting",
   "metadata": {},
   "outputs": [],
   "source": [
    "curl -c ./cookie -s -L \"https://drive.google.com/uc?export=download&id=$11hg55-dKdHN63yJP20dMLAgPJ5oiTOHF\" > /dev/null | curl -Lb ./cookie \"https://drive.google.com/uc?export=download&confirm=`awk '/download/ {print $NF}' ./cookie`&id=11hg55-dKdHN63yJP20dMLAgPJ5oiTOHF\" -o images.zip && sudo rm -rf cookie # download file\n",
    "unzip images.zip # unzip\n",
    "cd images\n",
    "pip3 install pillow # install pillow\n",
    "nano script.py # create python script\n",
    "chmod +x script.py # grant exec permission\n",
    "ls /opt/icons # view the updated images"
   ]
  }
 ],
 "metadata": {
  "kernelspec": {
   "display_name": "Python 3",
   "language": "python",
   "name": "python3"
  },
  "language_info": {
   "codemirror_mode": {
    "name": "ipython",
    "version": 3
   },
   "file_extension": ".py",
   "mimetype": "text/x-python",
   "name": "python",
   "nbconvert_exporter": "python",
   "pygments_lexer": "ipython3",
   "version": "3.8.5"
  }
 },
 "nbformat": 4,
 "nbformat_minor": 5
}
