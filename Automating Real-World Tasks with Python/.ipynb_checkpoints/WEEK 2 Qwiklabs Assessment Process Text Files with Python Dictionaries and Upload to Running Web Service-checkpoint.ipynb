{
 "cells": [
  {
   "cell_type": "markdown",
   "id": "conservative-senegal",
   "metadata": {},
   "source": [
    "# Qwiklabs Assessment: Process Text Files with Python Dictionaries and Upload to Running Web Service"
   ]
  },
  {
   "cell_type": "markdown",
   "id": "minimal-princeton",
   "metadata": {},
   "source": [
    "run.py"
   ]
  },
  {
   "cell_type": "code",
   "execution_count": null,
   "id": "aggregate-cameroon",
   "metadata": {},
   "outputs": [],
   "source": [
    "#! /usr/bin/env python3\n",
    "\n",
    "import os\n",
    "import requests\n",
    "\n",
    "'''\n",
    "List all .txt files under /data/feedback directory that contains the actual feedback to be displayed on the company's website.\n",
    "Hint: Use os.listdir() method for this, which returns a list of all files and directories in the specified path.\n",
    "'''\n",
    "dir = \"/data/feedback/\"\n",
    "for file in os.listdir(\"/data/feedback/\"): \n",
    "    '''\n",
    "    You should now have a list that contains all of the feedback files from the path /data/feedback. \n",
    "    Traverse over each file and, from the contents of these text files, create a dictionary by keeping title, name, date, and feedback as keys for the content value, respectively.\n",
    "    '''\n",
    "    format = [\"title\",\"name\",\"date\",\"feedback\"]\n",
    "\n",
    "    '''\n",
    "    Now, you need to have a dictionary with keys and their respective values (content from feedback files). \n",
    "    This will be uploaded through the Django REST API.\n",
    "    '''\n",
    "    content = {}\n",
    "    \n",
    "    with open('{}/{}'.format(dir,file), 'r') as txtfile:\n",
    "        counter = 0\n",
    "        for line in txtfile:\n",
    "            line = line.replace(\"\\n\", \"\")\n",
    "            content[format[counter]] = line.strip('\\n')\n",
    "            counter += 1\n",
    "    \n",
    "    '''\n",
    "    Use the Python requests module to post the dictionary to the company's website. \n",
    "    Use the request.post() method to make a POST request to http://<corpweb-external-IP>/feedback. \n",
    "    Replace <corpweb-external-IP> with corpweb's external IP address.\n",
    "    '''\n",
    "    response = requests.post(\"http://35.225.95.53/feedback/\",json = content)\n",
    "\n",
    "    '''\n",
    "    You can print the status_code and text of the response objects to check out what's going on. \n",
    "    You can also use the response status_code 201 for created success status response code that indicates the request has succeeded.\n",
    "    '''\n",
    "    if not response.ok:\n",
    "        raise Exception(\"POST failed! | Status code: {} | File: {}\".format(response.status_code, file))\n",
    "    print(\"Feedback added!\")"
   ]
  }
 ],
 "metadata": {
  "kernelspec": {
   "display_name": "Python 3",
   "language": "python",
   "name": "python3"
  },
  "language_info": {
   "codemirror_mode": {
    "name": "ipython",
    "version": 3
   },
   "file_extension": ".py",
   "mimetype": "text/x-python",
   "name": "python",
   "nbconvert_exporter": "python",
   "pygments_lexer": "ipython3",
   "version": "3.8.5"
  }
 },
 "nbformat": 4,
 "nbformat_minor": 5
}
