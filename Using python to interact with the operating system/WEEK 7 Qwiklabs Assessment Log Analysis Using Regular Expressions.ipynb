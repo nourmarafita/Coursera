{
 "cells": [
  {
   "cell_type": "markdown",
   "id": "promotional-trader",
   "metadata": {},
   "source": [
    "# Qwiklabs Assessment: Log Analysis Using Regular Expressions"
   ]
  },
  {
   "cell_type": "markdown",
   "id": "finished-strengthening",
   "metadata": {},
   "source": [
    "## Introduction"
   ]
  },
  {
   "cell_type": "markdown",
   "id": "productive-mouth",
   "metadata": {},
   "source": [
    "Imagine your company uses a server that runs a service called ticky, an internal ticketing system. The service logs events to syslog, both when it runs successfully and when it encounters errors.\n",
    "\n",
    "The service's developers need your help getting some information from those logs so that they can better understand how their software is used and how to improve it. So, for this lab, you'll write some automation scripts that will process the system log and generate reports based on the information extracted from the log files."
   ]
  },
  {
   "cell_type": "markdown",
   "id": "enabling-frequency",
   "metadata": {},
   "source": [
    "## What you'll do"
   ]
  },
  {
   "cell_type": "markdown",
   "id": "hungry-sheep",
   "metadata": {},
   "source": [
    "- Use regex to parse a log file\n",
    "- Append and modify values in a dictionary\n",
    "- Write to a file in CSV format\n",
    "- Move files to the appropriate directory for use with the CSV->HTML converter"
   ]
  },
  {
   "cell_type": "markdown",
   "id": "satisfactory-jerusalem",
   "metadata": {},
   "source": [
    "## Exercise - 1"
   ]
  },
  {
   "cell_type": "markdown",
   "id": "aggressive-anthony",
   "metadata": {},
   "source": [
    "We'll be working with a log file named syslog.log, which contains logs related to ticky.\n",
    "\n",
    "You can view this file using:"
   ]
  },
  {
   "cell_type": "code",
   "execution_count": null,
   "id": "broke-portrait",
   "metadata": {},
   "outputs": [],
   "source": [
    "cat syslog.log"
   ]
  },
  {
   "cell_type": "markdown",
   "id": "interim-first",
   "metadata": {},
   "source": [
    "The log lines follow a pattern similar to the ones we've seen before. Something like this:\n",
    "\n",
    "May 27 11:45:40 ubuntu.local ticky: INFO: Created ticket [#1234] (username)\n",
    "\n",
    "Jun 1 11:06:48 ubuntu.local ticky: ERROR: Connection to DB failed (username)\n",
    "\n",
    "When the service runs correctly, it logs an INFO message to syslog. It then states what it did and states the username and ticket number related to the event. If the service encounters a problem, it logs an ERROR message to syslog. This error message indicates what was wrong and states the username that triggered the action that caused the problem.\n",
    "\n",
    "In this section, we'll search and view different types of error messages. The error messages for ticky details the problems with the file with a timestamp for when each problem occurred."
   ]
  },
  {
   "cell_type": "markdown",
   "id": "regulation-times",
   "metadata": {},
   "source": [
    "These are a few kinds of listed error:"
   ]
  },
  {
   "cell_type": "markdown",
   "id": "compound-tuner",
   "metadata": {},
   "source": [
    "- Timeout while retrieving information\n",
    "- The ticket was modified while updating\n",
    "- Connection to DB failed\n",
    "- Tried to add information to a closed ticket\n",
    "- Permission denied while closing ticket\n",
    "- Ticket doesn't exist"
   ]
  },
  {
   "cell_type": "markdown",
   "id": "august-nurse",
   "metadata": {},
   "source": [
    "To grep all the logs from ticky, use the following command:"
   ]
  },
  {
   "cell_type": "code",
   "execution_count": null,
   "id": "coated-manhattan",
   "metadata": {},
   "outputs": [],
   "source": [
    "grep ticky syslog.log"
   ]
  },
  {
   "cell_type": "markdown",
   "id": "injured-bacon",
   "metadata": {},
   "source": [
    "In order to search all the ERROR logs, use the following command:"
   ]
  },
  {
   "cell_type": "code",
   "execution_count": null,
   "id": "guided-corruption",
   "metadata": {},
   "outputs": [],
   "source": [
    "grep \"ERROR\" syslog.log"
   ]
  },
  {
   "cell_type": "markdown",
   "id": "identified-progressive",
   "metadata": {},
   "source": [
    "To enlist all the ERROR messages of specific kind use the below syntax.\n",
    "\n",
    "Syntax: grep ERROR [message] [file-name]"
   ]
  },
  {
   "cell_type": "code",
   "execution_count": null,
   "id": "collectible-pakistan",
   "metadata": {},
   "outputs": [],
   "source": [
    "grep \"ERROR Tried to add information to closed ticket\" syslog.log"
   ]
  },
  {
   "cell_type": "markdown",
   "id": "planned-bundle",
   "metadata": {},
   "source": [
    "Let's now write a few regular expressions using a python3 interpreter.\n",
    "\n",
    "We can also grep the ERROR/INFO messages in a pythonic way using a regular expression. Let's now write a few regular expressions using a python3 interpreter.\n",
    "\n",
    "Open Python shell using the command below:"
   ]
  },
  {
   "cell_type": "code",
   "execution_count": null,
   "id": "marked-sample",
   "metadata": {},
   "outputs": [],
   "source": [
    "python3"
   ]
  },
  {
   "cell_type": "markdown",
   "id": "executed-banks",
   "metadata": {},
   "source": [
    "This opens a Shell. Python provides a Python Shell (also known as Python Interactive Shell), which is used to execute a single Python command and get the result.\n",
    "\n",
    "Import the regular expression module (re)."
   ]
  },
  {
   "cell_type": "code",
   "execution_count": null,
   "id": "endangered-monthly",
   "metadata": {},
   "outputs": [],
   "source": [
    "import re\n",
    "line = \"May 27 11:45:40 ubuntu.local ticky: INFO: Created ticket [#1234] (username)\""
   ]
  },
  {
   "cell_type": "markdown",
   "id": "expected-sheet",
   "metadata": {},
   "source": [
    "To match a string stored in line variable, we use the search() method by defining a pattern."
   ]
  },
  {
   "cell_type": "code",
   "execution_count": null,
   "id": "temporal-abortion",
   "metadata": {},
   "outputs": [],
   "source": [
    "re.search(r\"ticky: INFO: ([\\w ]*) \", line)"
   ]
  },
  {
   "cell_type": "markdown",
   "id": "original-earthquake",
   "metadata": {},
   "source": [
    "Output:"
   ]
  },
  {
   "cell_type": "code",
   "execution_count": null,
   "id": "bound-marking",
   "metadata": {},
   "outputs": [],
   "source": [
    "<_sre.SRE_Match object; span=(29, 57), match='ticky: INFO: Created ticket '>"
   ]
  },
  {
   "cell_type": "markdown",
   "id": "satisfactory-possession",
   "metadata": {},
   "source": [
    "You can also get the ERROR message as we did for the INFO log above from the ERROR log line."
   ]
  },
  {
   "cell_type": "code",
   "execution_count": null,
   "id": "stupid-perfume",
   "metadata": {},
   "outputs": [],
   "source": [
    "line = \"May 27 11:45:40 ubuntu.local ticky: ERROR: Error creating ticket [#1234] (username)\""
   ]
  },
  {
   "cell_type": "markdown",
   "id": "driven-minneapolis",
   "metadata": {},
   "source": [
    "To match a string stored in a line variable, we use the search() method by defining a pattern."
   ]
  },
  {
   "cell_type": "code",
   "execution_count": null,
   "id": "surprising-oriental",
   "metadata": {},
   "outputs": [],
   "source": [
    "re.search(r\"ticky: ERROR: ([\\w ]*) \", line)"
   ]
  },
  {
   "cell_type": "markdown",
   "id": "hungarian-pioneer",
   "metadata": {},
   "source": [
    "Output:"
   ]
  },
  {
   "cell_type": "code",
   "execution_count": null,
   "id": "national-beatles",
   "metadata": {},
   "outputs": [],
   "source": [
    "<_sre.SRE_Match object; span=(29, 65), match='ticky: ERROR: Error creating ticket '>"
   ]
  },
  {
   "cell_type": "markdown",
   "id": "cardiovascular-alpha",
   "metadata": {},
   "source": [
    "Now that you know how to use regular expressions with Python, start fetching logs of ticky for a specific username. We'll need them in later sections."
   ]
  },
  {
   "cell_type": "markdown",
   "id": "ordinary-automation",
   "metadata": {},
   "source": [
    "## Exercise - 2"
   ]
  },
  {
   "cell_type": "markdown",
   "id": "prostate-leadership",
   "metadata": {},
   "source": [
    "Now, use the Python interactive shell to create a dictionary."
   ]
  },
  {
   "cell_type": "code",
   "execution_count": 8,
   "id": "southern-garden",
   "metadata": {},
   "outputs": [],
   "source": [
    "fruit = {\"oranges\": 3, \"apples\": 5, \"bananas\": 7, \"pears\": 2}"
   ]
  },
  {
   "cell_type": "markdown",
   "id": "worth-actress",
   "metadata": {},
   "source": [
    "Call the sorted function to sort the items in the dictionary."
   ]
  },
  {
   "cell_type": "code",
   "execution_count": 9,
   "id": "conscious-heather",
   "metadata": {},
   "outputs": [
    {
     "data": {
      "text/plain": [
       "[('apples', 5), ('bananas', 7), ('oranges', 3), ('pears', 2)]"
      ]
     },
     "execution_count": 9,
     "metadata": {},
     "output_type": "execute_result"
    }
   ],
   "source": [
    "sorted(fruit.items())"
   ]
  },
  {
   "cell_type": "markdown",
   "id": "finnish-overall",
   "metadata": {},
   "source": [
    "We'll now sort the dictionary using the item's key. For this use the operator module.\n",
    "\n",
    "Pass the function itemgetter() as an argument to the sorted() function. Since the second element of tuple needs to be sorted, pass the argument 0 to the itemgetter function of the operator module."
   ]
  },
  {
   "cell_type": "code",
   "execution_count": 10,
   "id": "ranging-operations",
   "metadata": {},
   "outputs": [],
   "source": [
    "import operator"
   ]
  },
  {
   "cell_type": "code",
   "execution_count": 11,
   "id": "tender-substitute",
   "metadata": {},
   "outputs": [
    {
     "data": {
      "text/plain": [
       "[('apples', 5), ('bananas', 7), ('oranges', 3), ('pears', 2)]"
      ]
     },
     "execution_count": 11,
     "metadata": {},
     "output_type": "execute_result"
    }
   ],
   "source": [
    "sorted(fruit.items(), key=operator.itemgetter(0))"
   ]
  },
  {
   "cell_type": "markdown",
   "id": "daily-judges",
   "metadata": {},
   "source": [
    "To sort a dictionary based on its values, pass the argument 1 to the itemgetter function of the operator module."
   ]
  },
  {
   "cell_type": "code",
   "execution_count": 12,
   "id": "civic-albuquerque",
   "metadata": {},
   "outputs": [
    {
     "data": {
      "text/plain": [
       "[('pears', 2), ('oranges', 3), ('apples', 5), ('bananas', 7)]"
      ]
     },
     "execution_count": 12,
     "metadata": {},
     "output_type": "execute_result"
    }
   ],
   "source": [
    "sorted(fruit.items(), key=operator.itemgetter(1))"
   ]
  },
  {
   "cell_type": "markdown",
   "id": "fabulous-violence",
   "metadata": {},
   "source": [
    "Finally, you can also reverse the order of the sort using the reverse parameter. This parameter takes in a boolean argument.\n",
    "\n",
    "To sort the fruit object from most to least occurrence, we pass the argument reverse=True."
   ]
  },
  {
   "cell_type": "code",
   "execution_count": 13,
   "id": "compatible-samoa",
   "metadata": {},
   "outputs": [
    {
     "data": {
      "text/plain": [
       "[('bananas', 7), ('apples', 5), ('oranges', 3), ('pears', 2)]"
      ]
     },
     "execution_count": 13,
     "metadata": {},
     "output_type": "execute_result"
    }
   ],
   "source": [
    "sorted(fruit.items(), key = operator.itemgetter(1), reverse=True)"
   ]
  },
  {
   "cell_type": "markdown",
   "id": "indonesian-highlight",
   "metadata": {},
   "source": [
    "You can see the fruit object is now sorted from the most to the least number of occurrences.\n",
    "\n",
    "Great job practice these skills! You can further practice this by sorting the logs that you would fetch using regular expressions from the previous section.\n",
    "\n",
    "Exit the shell using exit()."
   ]
  },
  {
   "cell_type": "markdown",
   "id": "better-network",
   "metadata": {},
   "source": [
    "## Exercise - 3"
   ]
  },
  {
   "cell_type": "markdown",
   "id": "cathedral-decision",
   "metadata": {},
   "source": [
    "We'll now work with a file named csv_to_html.py. This file converts the data in a CSV file into an HTML file that contains a table with the data. Let's practice this with an example file.\n",
    "\n",
    "Create a new CSV file."
   ]
  },
  {
   "cell_type": "code",
   "execution_count": null,
   "id": "extended-temperature",
   "metadata": {},
   "outputs": [],
   "source": [
    "nano user_emails.csv"
   ]
  },
  {
   "cell_type": "markdown",
   "id": "super-soviet",
   "metadata": {},
   "source": [
    "Add the following data into the file:"
   ]
  },
  {
   "cell_type": "code",
   "execution_count": null,
   "id": "durable-hartford",
   "metadata": {},
   "outputs": [],
   "source": [
    "Full Name, Email Address\n",
    "Blossom Gill, blossom@abc.edu\n",
    "Hayes Delgado, nonummy@utnisia.com\n",
    "Petra Jones, ac@abc.edu\n",
    "Oleg Noel, noel@liberomauris.ca\n",
    "Ahmed Miller, ahmed.miller@nequenonquam.co.uk\n",
    "Macaulay Douglas, mdouglas@abc.edu\n",
    "Aurora Grant, enim.non@abc.edu\n",
    "Madison Mcintosh, mcintosh@nisiaenean.net\n",
    "Montana Powell, montanap@semmagna.org\n",
    "Rogan Robinson, rr.robinson@abc.edu\n",
    "Simon Rivera, sri@abc.edu\n",
    "Benedict Pacheco, bpacheco@abc.edu\n",
    "Maisie Hendrix, mai.hendrix@abc.edu\n",
    "Xaviera Gould, xlg@utnisia.net\n",
    "Oren Rollins, oren@semmagna.com\n",
    "Flavia Santiago, flavia@utnisia.net\n",
    "Jackson Owens, jackowens@abc.edu\n",
    "Britanni Humphrey, britanni@ut.net\n",
    "Kirk Nixon, kirknixon@abc.edu\n",
    "Bree Campbell, breee@utnisia.net"
   ]
  },
  {
   "cell_type": "markdown",
   "id": "likely-cologne",
   "metadata": {},
   "source": [
    "Save the file by clicking Ctrl-o, Enter key, and Ctrl-x.\n",
    "\n",
    "Give executable permission to the script file csv_to_html.py."
   ]
  },
  {
   "cell_type": "code",
   "execution_count": null,
   "id": "hairy-community",
   "metadata": {},
   "outputs": [],
   "source": [
    "sudo chmod +x csv_to_html.py"
   ]
  },
  {
   "cell_type": "markdown",
   "id": "owned-aberdeen",
   "metadata": {},
   "source": [
    "To visualize the data in the user_emails.csv file, you have to generate a webpage that'll be served by the webserver running on the machine.\n",
    "\n",
    "The script csv_to_html.py takes in two arguments, the CSV file, and location that would host the HTML page generated. Give write permission to the directory that would host that HTML page:"
   ]
  },
  {
   "cell_type": "code",
   "execution_count": null,
   "id": "painful-journey",
   "metadata": {},
   "outputs": [],
   "source": [
    "sudo chmod  o+w /var/www/html"
   ]
  },
  {
   "cell_type": "markdown",
   "id": "wound-jackson",
   "metadata": {},
   "source": [
    "Next, run the script csv_to_html.py script by passing two arguments: user_emails.csv file and the path /var/www/html/. Also, append a name to the path with an HTML extension. This should be the name that you want the HTML file to be created with."
   ]
  },
  {
   "cell_type": "code",
   "execution_count": null,
   "id": "exact-father",
   "metadata": {},
   "outputs": [],
   "source": [
    "./csv_to_html.py user_emails.csv /var/www/html/log.html"
   ]
  },
  {
   "cell_type": "markdown",
   "id": "valid-activity",
   "metadata": {},
   "source": [
    "Replace <html-filename> with the new name.\n",
    "\n",
    "Navigate to the /var/www/html directory. Here, you'll find an HTML file created with the filename you passed to the above script."
   ]
  },
  {
   "cell_type": "code",
   "execution_count": null,
   "id": "continuing-proceeding",
   "metadata": {},
   "outputs": [],
   "source": [
    "ls /var/www/html"
   ]
  },
  {
   "cell_type": "code",
   "execution_count": null,
   "id": "large-conflict",
   "metadata": {},
   "outputs": [],
   "source": [
    "Now, to view this HTML page, open any web-browser and enter the following URL in the search bar.\n",
    "\n",
    "[linux-instance-external-IP]/[html-filename].html"
   ]
  },
  {
   "cell_type": "markdown",
   "id": "careful-break",
   "metadata": {},
   "source": [
    "## Generate reports"
   ]
  },
  {
   "cell_type": "markdown",
   "id": "further-circulation",
   "metadata": {},
   "source": [
    "Now, we're going to practice creating a script, named ticky_check.py, that generates two different reports from this internal ticketing system log file i.e., syslog.log. This script will create the following reports:"
   ]
  },
  {
   "cell_type": "markdown",
   "id": "soviet-cartoon",
   "metadata": {},
   "source": [
    "- The ranking of errors generated by the system: A list of all the error messages logged and how many times each error was found, sorted by the most common error to the least common error. This report doesn't take into account the users involved.\n",
    "- The user usage statistics for the service: A list of all users that have used the system, including how many info messages and how many error messages they've generated. This report is sorted by username."
   ]
  },
  {
   "cell_type": "markdown",
   "id": "detailed-quilt",
   "metadata": {},
   "source": [
    "To create these reports write a python script named ticky_check.py. Use nano editor for this."
   ]
  },
  {
   "cell_type": "code",
   "execution_count": null,
   "id": "differential-hunter",
   "metadata": {},
   "outputs": [],
   "source": [
    "nano ticky_check.py"
   ]
  },
  {
   "cell_type": "markdown",
   "id": "middle-plane",
   "metadata": {},
   "source": [
    "Add the shebang line."
   ]
  },
  {
   "cell_type": "code",
   "execution_count": null,
   "id": "pointed-function",
   "metadata": {},
   "outputs": [],
   "source": [
    "#!/usr/bin/env python3"
   ]
  },
  {
   "cell_type": "markdown",
   "id": "cardiac-shanghai",
   "metadata": {},
   "source": [
    "Here's your challenge: Write a script to generate two different reports based on the ranking of errors generated by the system and the user usage statistics for the service. You'll write the script on your own, but we'll guide you throughout.\n",
    "\n",
    "First, import all the Python modules that you'll use in this Python script. After importing the necessary modules, initialize two dictionaries: one for the number of different error messages and another to count the number of entries for each user (splitting between INFO and ERROR).\n",
    "\n",
    "Now, parse through each log entry in the syslog.log file by iterating over the file.\n",
    "\n",
    "For each log entry, you'll have to first check if it matches the INFO or ERROR message formats. You should use regular expressions for this. When you get a successful match, add one to the corresponding value in the per_user dictionary. If you get an ERROR message, add one to the corresponding entry in the error dictionary by using proper data structure.\n",
    "\n",
    "After you've processed the log entries from the syslog.log file, you need to sort both the per_user and error dictionary before creating CSV report files.\n",
    "\n",
    "Keep in mind that:"
   ]
  },
  {
   "cell_type": "markdown",
   "id": "crude-theory",
   "metadata": {},
   "source": [
    "- The error dictionary should be sorted by the number of errors from most common to least common.\n",
    "- The user dictionary should be sorted by username."
   ]
  },
  {
   "cell_type": "markdown",
   "id": "distinguished-matter",
   "metadata": {},
   "source": [
    "Insert column names as (\"Error\", \"Count\") at the zero index position of the sorted error dictionary. And insert column names as (\"Username\", \"INFO\", \"ERROR\") at the zero index position of the sorted per_user dictionary.\n",
    "\n",
    "After sorting these dictionaries, store them in two different files: error_message.csv and user_statistics.csv.\n",
    "\n",
    "Save the ticky_check.py file by clicking Ctrl-o, Enter key, and Ctrl-x."
   ]
  },
  {
   "cell_type": "code",
   "execution_count": null,
   "id": "female-notebook",
   "metadata": {},
   "outputs": [],
   "source": [
    "#!/usr/bin/env python3\n",
    "import re\n",
    "import csv\n",
    "import operator\n",
    "import sys\n",
    "\n",
    "per_user = {}\n",
    "errors = {}\n",
    "\n",
    "logfile = 'syslog.log'\n",
    "f = open(logfile, 'r')\n",
    "\n",
    "errorfile = 'error_message.csv'\n",
    "userfile = 'user_statistics.csv'\n",
    "\n",
    "for log in f:\n",
    "        result = re.search(r\"ticky: ([\\w+]*):? ([\\w' ]*) [\\[[0-9#]*\\]?]? ?\\((.*)\\)$\", log)\n",
    "        if result.group(2) not in errors.keys():\n",
    "                errors[result.group(2)] = 0\n",
    "        errors[result.group(2)] += 1\n",
    "        if result.group(3) not in per_user.keys():\n",
    "                per_user[result.group(3)] = {}\n",
    "                per_user[result.group(3)][\"INFO\"] = 0\n",
    "                per_user[result.group(3)][\"ERROR\"] = 0\n",
    "\n",
    "        if result.group(1) == \"INFO\":\n",
    "                per_user[result.group(3)][\"INFO\"] += 1\n",
    "        if result.group(1) == \"ERROR\":\n",
    "                per_user[result.group(3)][\"ERROR\"] += 1\n",
    "\n",
    "errors = sorted(errors.items(), key = operator.itemgetter(1), reverse = True)\n",
    "per_user = sorted(per_user.items())\n",
    "\n",
    "f.close()\n",
    "errors.insert(0, ('Error', 'Count'))\n",
    "\n",
    "f = open(errorfile, 'w')\n",
    "for error in errors:\n",
    "        a,b = error\n",
    "        f.write(str(a)+','+str(b)+'\\n')\n",
    "f.close()\n",
    "errors.insert(0, ('Error', 'Count'))\n",
    "\n",
    "f = open(errorfile, 'w')\n",
    "for error in errors:\n",
    "        a,b = error\n",
    "        f.write(str(a)+','+str(b)+'\\n')\n",
    "f.close()\n",
    "\n",
    "f= open(userfile, 'w')\n",
    "f.write(\"Username, INFO, ERROR\\n\")\n",
    "for stats in per_user:\n",
    "        a, b = stats\n",
    "        f.write(str(a)+','+str(b[\"INFO\"])+','+str(b[\"ERROR\"])+'\\n')"
   ]
  },
  {
   "cell_type": "markdown",
   "id": "following-chicago",
   "metadata": {},
   "source": [
    "## Visualize reports"
   ]
  },
  {
   "cell_type": "markdown",
   "id": "protecting-blogger",
   "metadata": {},
   "source": [
    "First, give executable permission to the Python script ticky_check.py."
   ]
  },
  {
   "cell_type": "code",
   "execution_count": null,
   "id": "silent-proportion",
   "metadata": {},
   "outputs": [],
   "source": [
    "chmod +x ticky_check.py"
   ]
  },
  {
   "cell_type": "markdown",
   "id": "extended-carolina",
   "metadata": {},
   "source": [
    "Run the ticky_check.py by using the following command:"
   ]
  },
  {
   "cell_type": "code",
   "execution_count": null,
   "id": "potential-length",
   "metadata": {},
   "outputs": [],
   "source": [
    "./ticky_check.py"
   ]
  },
  {
   "cell_type": "markdown",
   "id": "ordered-front",
   "metadata": {},
   "source": [
    "Executing ticky_check.py will generate two report file __error_message.csv __and user_statistics.csv.\n",
    "\n",
    "You can now visualize the __error_message.csv __and user_statistics.csv by converting them to HTML pages. To do this, pass the files one by one to the script csv_to _html.py file, like we did in the previous section.\n",
    "\n",
    "To convert the error_message.csv into HTML file run the following command:"
   ]
  },
  {
   "cell_type": "code",
   "execution_count": null,
   "id": "metallic-mentor",
   "metadata": {},
   "outputs": [],
   "source": [
    "./csv_to_html.py error_message.csv /var/www/html/file1.html"
   ]
  },
  {
   "cell_type": "markdown",
   "id": "residential-planning",
   "metadata": {},
   "source": [
    "To convert user_statistics.csv into HTML file, run the following command:"
   ]
  },
  {
   "cell_type": "code",
   "execution_count": null,
   "id": "manual-cabin",
   "metadata": {},
   "outputs": [],
   "source": [
    "./csv_to_html.py user_statistics.csv /var/www/html/file2.html"
   ]
  },
  {
   "cell_type": "markdown",
   "id": "aggressive-variety",
   "metadata": {},
   "source": [
    "Now, to view these HTML pages, open any web-browser and enter the following URL in the search bar.\n",
    "\n",
    "[linux-instance-external-IP]/[html-filename].html"
   ]
  }
 ],
 "metadata": {
  "kernelspec": {
   "display_name": "Python 3",
   "language": "python",
   "name": "python3"
  },
  "language_info": {
   "codemirror_mode": {
    "name": "ipython",
    "version": 3
   },
   "file_extension": ".py",
   "mimetype": "text/x-python",
   "name": "python",
   "nbconvert_exporter": "python",
   "pygments_lexer": "ipython3",
   "version": "3.8.5"
  }
 },
 "nbformat": 4,
 "nbformat_minor": 5
}
