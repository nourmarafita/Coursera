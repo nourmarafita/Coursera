{
 "cells": [
  {
   "cell_type": "markdown",
   "id": "fallen-shelf",
   "metadata": {},
   "source": [
    "# Qwiklabs Assessment: Implementing Unit Testing"
   ]
  },
  {
   "cell_type": "markdown",
   "id": "selected-spending",
   "metadata": {},
   "source": [
    "emails.py"
   ]
  },
  {
   "cell_type": "code",
   "execution_count": null,
   "id": "authentic-greeting",
   "metadata": {},
   "outputs": [],
   "source": [
    "#!/usr/bin/env python3\n",
    "\n",
    "import csv\n",
    "import sys\n",
    "\n",
    "\n",
    "def populate_dictionary(filename):\n",
    "  \"\"\"Populate a dictionary with name/email pairs for easy lookup.\"\"\"\n",
    "  email_dict = {}\n",
    "  with open(filename) as csvfile:\n",
    "    lines = csv.reader(csvfile, delimiter = ',')\n",
    "    for row in lines:\n",
    "      name = str(row[0].lower())\n",
    "      email_dict[name] = row[1]\n",
    "  return email_dict\n",
    "\n",
    "def find_email(argv):\n",
    "  \"\"\" Return an email address based on the username given.\"\"\"\n",
    "  # Create the username based on the command line input.\n",
    "  try:\n",
    "    fullname = str(argv[1] + \" \" + argv[2])\n",
    "    # Preprocess the data\n",
    "    email_dict = populate_dictionary('/home/{{ username }}/data/user_emails.csv')\n",
    "     # If email exists, print it\n",
    "    if email_dict.get(fullname.lower()):\n",
    "      return email_dict.get(fullname.lower())\n",
    "    else:\n",
    "      return \"No email address found\"\n",
    "  except IndexError:\n",
    "    return \"Missing parameters\"\n",
    "\n",
    "def main():\n",
    "  print(find_email(sys.argv))\n",
    "\n",
    "if __name__ == \"__main__\":\n",
    "  main()"
   ]
  },
  {
   "cell_type": "markdown",
   "id": "billion-playlist",
   "metadata": {},
   "source": [
    "emails_test.py"
   ]
  },
  {
   "cell_type": "code",
   "execution_count": null,
   "id": "understood-investing",
   "metadata": {},
   "outputs": [],
   "source": [
    "#!/usr/bin/env python3\n",
    "\n",
    "import unittest\n",
    "from emails import find_email\n",
    "\n",
    "\n",
    "class EmailsTest(unittest.TestCase):\n",
    "  def test_basic(self):\n",
    "    testcase = [None, \"Bree\", \"Campbell\"]\n",
    "    expected = \"breee@abc.edu\"\n",
    "    self.assertEqual(find_email(testcase), expected)\n",
    "\n",
    "  def test_one_name(self):\n",
    "    testcase = [None, \"John\"]\n",
    "    expected = \"Missing parameters\"\n",
    "    self.assertEqual(find_email(testcase), expected)\n",
    "\n",
    "  def test_two_name(self):\n",
    "    testcase = [None, \"Roy\",\"Cooper\"]\n",
    "    expected = \"No email address found\"\n",
    "    self.assertEqual(find_email(testcase), expected)\n",
    "\n",
    "if __name__ == '__main__':\n",
    "  unittest.main()"
   ]
  },
  {
   "cell_type": "code",
   "execution_count": null,
   "id": "concrete-amateur",
   "metadata": {},
   "outputs": [],
   "source": []
  }
 ],
 "metadata": {
  "kernelspec": {
   "display_name": "Python 3",
   "language": "python",
   "name": "python3"
  },
  "language_info": {
   "codemirror_mode": {
    "name": "ipython",
    "version": 3
   },
   "file_extension": ".py",
   "mimetype": "text/x-python",
   "name": "python",
   "nbconvert_exporter": "python",
   "pygments_lexer": "ipython3",
   "version": "3.8.5"
  }
 },
 "nbformat": 4,
 "nbformat_minor": 5
}
