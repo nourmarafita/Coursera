{
 "cells": [
  {
   "cell_type": "markdown",
   "id": "ambient-porcelain",
   "metadata": {},
   "source": [
    "# Qwiklabs Assessment: Handling Files"
   ]
  },
  {
   "cell_type": "markdown",
   "id": "specified-present",
   "metadata": {},
   "source": [
    "We have created the employee list for you. Navigate to the data directory using the following command:"
   ]
  },
  {
   "cell_type": "code",
   "execution_count": 1,
   "id": "unlike-procurement",
   "metadata": {},
   "outputs": [
    {
     "name": "stdout",
     "output_type": "stream",
     "text": [
      "[WinError 2] The system cannot find the file specified: 'data'\n",
      "C:\\Users\\Nurma\\Using python to interact with the operating system\n"
     ]
    }
   ],
   "source": [
    "cd data"
   ]
  },
  {
   "cell_type": "markdown",
   "id": "lucky-voice",
   "metadata": {},
   "source": [
    "To find the data, list the files using the following command:"
   ]
  },
  {
   "cell_type": "code",
   "execution_count": 2,
   "id": "official-silver",
   "metadata": {},
   "outputs": [
    {
     "name": "stdout",
     "output_type": "stream",
     "text": [
      " Volume in drive C has no label.\n",
      " Volume Serial Number is 66D1-06AA\n",
      "\n",
      " Directory of C:\\Users\\Nurma\\Using python to interact with the operating system\n",
      "\n",
      "02/27/2021  02:32 PM    <DIR>          .\n",
      "02/27/2021  02:32 PM    <DIR>          ..\n",
      "02/27/2021  02:32 PM    <DIR>          .ipynb_checkpoints\n",
      "02/27/2021  01:13 PM                 0 program.py\n",
      "02/27/2021  01:21 PM    <DIR>          PythonPrograms\n",
      "02/27/2021  02:29 PM            22,096 WEEK 2 Qwiklabs Assessment Handling Files.ipynb\n",
      "02/27/2021  02:18 PM            16,666 WEEK 2.ipynb\n",
      "               3 File(s)         38,762 bytes\n",
      "               4 Dir(s)   9,255,301,120 bytes free\n"
     ]
    }
   ],
   "source": [
    "ls"
   ]
  },
  {
   "cell_type": "markdown",
   "id": "abandoned-tunisia",
   "metadata": {},
   "source": [
    "You can now see a file called employees.csv, where you will find your data. You can also see a directory called scripts. We will write the python script in this directory.\n",
    "\n",
    "To view the contents of the file, enter the following command:"
   ]
  },
  {
   "cell_type": "code",
   "execution_count": 3,
   "id": "statistical-crown",
   "metadata": {},
   "outputs": [
    {
     "ename": "SyntaxError",
     "evalue": "invalid syntax (<ipython-input-3-8893282d49a0>, line 1)",
     "output_type": "error",
     "traceback": [
      "\u001b[1;36m  File \u001b[1;32m\"<ipython-input-3-8893282d49a0>\"\u001b[1;36m, line \u001b[1;32m1\u001b[0m\n\u001b[1;33m    cat employees.csv\u001b[0m\n\u001b[1;37m        ^\u001b[0m\n\u001b[1;31mSyntaxError\u001b[0m\u001b[1;31m:\u001b[0m invalid syntax\n"
     ]
    }
   ],
   "source": [
    "cat employees.csv"
   ]
  },
  {
   "cell_type": "markdown",
   "id": "extraordinary-jewelry",
   "metadata": {},
   "source": [
    "Let's start by writing the script. You will write this python script in the scripts directory. Go to the scripts directory by using the following command:"
   ]
  },
  {
   "cell_type": "code",
   "execution_count": null,
   "id": "naval-marketing",
   "metadata": {},
   "outputs": [],
   "source": [
    "cd ~/scripts"
   ]
  },
  {
   "cell_type": "markdown",
   "id": "weighted-registration",
   "metadata": {},
   "source": [
    "Create a file named generate_report.py using the following command:"
   ]
  },
  {
   "cell_type": "code",
   "execution_count": null,
   "id": "fallen-range",
   "metadata": {},
   "outputs": [],
   "source": [
    "nano generate_report.py"
   ]
  },
  {
   "cell_type": "markdown",
   "id": "worldwide-routine",
   "metadata": {},
   "source": [
    "You will write your python script in this generate_report.py file. This script begins with a line containing the #! character combination, which is commonly called hash bang or shebang, and continues with the path to the interpreter. If the kernel finds that the first two bytes are #! then it uses the rest of the line as an interpreter and passes the file as an argument. We will use the following shebang in this script:"
   ]
  },
  {
   "cell_type": "code",
   "execution_count": null,
   "id": "olive-answer",
   "metadata": {},
   "outputs": [],
   "source": [
    "#!/usr/bin/env python3\n",
    "#Now, import the CSV module.\n",
    "import csv\n",
    "\"\"\"\n",
    "Define the function read_employees. This function takes file_location (path to employees.csv) as a parameter.\n",
    "\"\"\"\n",
    "def read_employees(csv_file_location):\n",
    "    "
   ]
  },
  {
   "cell_type": "markdown",
   "id": "ahead-stanley",
   "metadata": {},
   "source": [
    "Open the CSV file by calling open and then csv.DictReader.\n",
    "\n",
    "DictReader creates an object that operates like a regular reader (an object that iterates over lines in the given CSV file), but also maps the information it reads into a dictionary where keys are given by the optional fieldnames parameter. If we omit the fieldnames parameter, the values in the first row of the CSV file will be used as the keys. So, in this case, the first line of the CSV file has the keys and so there's no need to pass fieldnames as a parameter.\n",
    "\n",
    "We also need to pass a dialect as a parameter to this function. There isn't a well-defined standard for comma-separated value files, so the parser needs to be flexible. Flexibility here means that there are many parameters to control how csv parses or writes data. Rather than passing each of these parameters to the reader and writer separately, we group them together conveniently into a dialect object.\n",
    "\n",
    "Dialect classes can be registered by name so that callers of the CSV module don't need to know the parameter settings in advance. We will now register a dialect empDialect."
   ]
  },
  {
   "cell_type": "code",
   "execution_count": null,
   "id": "collect-quest",
   "metadata": {},
   "outputs": [],
   "source": [
    "#!/usr/bin/env python3\n",
    "#Now, import the CSV module.\n",
    "import csv\n",
    "\"\"\"\n",
    "Define the function read_employees. This function takes file_location (path to employees.csv) as a parameter.\n",
    "\"\"\"\n",
    "def read_employees(csv_file_location):\n",
    "      csv.register_dialect('empDialect', skipinitialspace=True, strict=True)\n",
    "        \"\"\" The main purpose of this dialect is to remove any leading spaces while parsing the CSV file.\n",
    "\n",
    "            The function will look similar to: \"\"\"\n",
    "        employee_file = csv.DictReader(open(csv_file_location), dialect = 'empDialect')\n",
    "        "
   ]
  },
  {
   "cell_type": "markdown",
   "id": "olive-husband",
   "metadata": {},
   "source": [
    "You now need to iterate over the CSV file that you opened, i.e., employee_file. When you iterate over a CSV file, each iteration of the loop produces a dictionary from strings (key) to strings (value).\n",
    "\n",
    "Append the dictionaries to an empty initialised list employee_list as you iterate over the CSV file."
   ]
  },
  {
   "cell_type": "code",
   "execution_count": null,
   "id": "vertical-courage",
   "metadata": {},
   "outputs": [],
   "source": [
    "#!/usr/bin/env python3\n",
    "#Now, import the CSV module.\n",
    "import csv\n",
    "\"\"\"\n",
    "Define the function read_employees. This function takes file_location (path to employees.csv) as a parameter.\n",
    "\"\"\"\n",
    "def read_employees(csv_file_location):\n",
    "      csv.register_dialect('empDialect', skipinitialspace=True, strict=True)\n",
    "        \"\"\" The main purpose of this dialect is to remove any leading spaces while parsing the CSV file.\n",
    "\n",
    "            The function will look similar to: \"\"\"\n",
    "        employee_file = csv.DictReader(open(csv_file_location), dialect = 'empDialect')\n",
    "        employee_list = []\n",
    "          for data in employee_file:\n",
    "            employee_list.append(data)\n",
    "          return employee_list\n",
    "    \n",
    "\"\"\" To test the function, call the function and save it to a variable called employee_list. \n",
    "Pass the path to employees.csv as a parameter to the function. \n",
    "Print the variable employee_list to check whether it returns a list of dictionaries. \"\"\"\n",
    "\n",
    "employee_list = read_employees('<file_location>')\n",
    "print(employee_list)"
   ]
  },
  {
   "cell_type": "markdown",
   "id": "seventh-expansion",
   "metadata": {},
   "source": [
    "Replace <file_location> with the path to the employees.csv (this should look similar to the path /home/<username>/data/employees.csv). Replace <username> with the one mentioned in Connection Details Panel at left hand side.\n",
    "\n",
    "Save the file by clicking Ctrl-o, Enter, and Ctrl-x.\n",
    "\n",
    "For the file to run it needs to have execute permission (x). Let's update the file permissions and then try running the file. Use the following command to add execute permission to the file:"
   ]
  },
  {
   "cell_type": "code",
   "execution_count": null,
   "id": "harmful-bailey",
   "metadata": {},
   "outputs": [],
   "source": [
    "chmod +x generate_report.py"
   ]
  },
  {
   "cell_type": "code",
   "execution_count": null,
   "id": "waiting-banks",
   "metadata": {},
   "outputs": [],
   "source": [
    "Now test the function by running the file using the following command:"
   ]
  },
  {
   "cell_type": "code",
   "execution_count": null,
   "id": "anonymous-paragraph",
   "metadata": {},
   "outputs": [],
   "source": [
    "./generate_report.py"
   ]
  },
  {
   "cell_type": "markdown",
   "id": "affiliated-scott",
   "metadata": {},
   "source": [
    "This function needs to pass the employee_list, received from the previous section, as a parameter to the function.\n",
    "\n",
    "Now, initialize a new list called department_list, iterate over employee_list, and add only the departments into the department_list."
   ]
  },
  {
   "cell_type": "code",
   "execution_count": null,
   "id": "controversial-suicide",
   "metadata": {},
   "outputs": [],
   "source": [
    "#!/usr/bin/env python3\n",
    "#Now, import the CSV module.\n",
    "import csv\n",
    "\"\"\"\n",
    "Define the function read_employees. This function takes file_location (path to employees.csv) as a parameter.\n",
    "\"\"\"\n",
    "def read_employees(csv_file_location):\n",
    "      csv.register_dialect('empDialect', skipinitialspace=True, strict=True)\n",
    "        \"\"\" The main purpose of this dialect is to remove any leading spaces while parsing the CSV file.\n",
    "\n",
    "            The function will look similar to: \"\"\"\n",
    "        employee_file = csv.DictReader(open(csv_file_location), dialect = 'empDialect')\n",
    "        employee_list = []\n",
    "          for data in employee_file:\n",
    "            employee_list.append(data)\n",
    "          return employee_list\n",
    "    \n",
    "\"\"\" To test the function, call the function and save it to a variable called employee_list. \n",
    "Pass the path to employees.csv as a parameter to the function. \n",
    "Print the variable employee_list to check whether it returns a list of dictionaries. \"\"\"\n",
    "\n",
    "employee_list = read_employees('<file_location>')\n",
    "print(employee_list)\n",
    "\n",
    "def process_data(employee_list):\n",
    "    department_list = []\n",
    "    for employee_data in employee_list:\n",
    "        department_list.append(employee_data['Department'])"
   ]
  },
  {
   "cell_type": "markdown",
   "id": "expected-lincoln",
   "metadata": {},
   "source": [
    "The department_list should now have a redundant list of all the department names. We now have to remove the redundancy and return a dictionary. We will return this dicationary in the format department:amount, where amount is the number of employees in that particular department."
   ]
  },
  {
   "cell_type": "code",
   "execution_count": null,
   "id": "split-forward",
   "metadata": {},
   "outputs": [],
   "source": [
    "#!/usr/bin/env python3\n",
    "#Now, import the CSV module.\n",
    "import csv\n",
    "\"\"\"\n",
    "Define the function read_employees. This function takes file_location (path to employees.csv) as a parameter.\n",
    "\"\"\"\n",
    "def read_employees(csv_file_location):\n",
    "      csv.register_dialect('empDialect', skipinitialspace=True, strict=True)\n",
    "        \"\"\" The main purpose of this dialect is to remove any leading spaces while parsing the CSV file.\n",
    "\n",
    "            The function will look similar to: \"\"\"\n",
    "        employee_file = csv.DictReader(open(csv_file_location), dialect = 'empDialect')\n",
    "        employee_list = []\n",
    "          for data in employee_file:\n",
    "            employee_list.append(data)\n",
    "          return employee_list\n",
    "    \n",
    "\"\"\" To test the function, call the function and save it to a variable called employee_list. \n",
    "Pass the path to employees.csv as a parameter to the function. \n",
    "Print the variable employee_list to check whether it returns a list of dictionaries. \"\"\"\n",
    "\n",
    "employee_list = read_employees('<file_location>')\n",
    "print(employee_list)\n",
    "\n",
    "def process_data(employee_list):\n",
    "    department_list = []\n",
    "    for employee_data in employee_list:\n",
    "        department_list.append(employee_data['Department'])\n",
    "        \n",
    "    department_data = {}\n",
    "    for department_name in set(department_list):\n",
    "        department_data[department_name] = department_list.count(department_name)\n",
    "    return department_data"
   ]
  },
  {
   "cell_type": "markdown",
   "id": "acknowledged-blend",
   "metadata": {},
   "source": [
    "This uses the set() method, which converts iterable elements to distinct elements.\n",
    "\n",
    "Now, call this function by passing the employee_list from the previous section. Then, save the output in a variable called dictionary. Print the variable dictionary."
   ]
  },
  {
   "cell_type": "code",
   "execution_count": null,
   "id": "oriented-final",
   "metadata": {},
   "outputs": [],
   "source": [
    "#!/usr/bin/env python3\n",
    "#Now, import the CSV module.\n",
    "import csv\n",
    "\"\"\"\n",
    "Define the function read_employees. This function takes file_location (path to employees.csv) as a parameter.\n",
    "\"\"\"\n",
    "def read_employees(csv_file_location):\n",
    "      csv.register_dialect('empDialect', skipinitialspace=True, strict=True)\n",
    "        \"\"\" The main purpose of this dialect is to remove any leading spaces while parsing the CSV file.\n",
    "\n",
    "            The function will look similar to: \"\"\"\n",
    "        employee_file = csv.DictReader(open(csv_file_location), dialect = 'empDialect')\n",
    "        employee_list = []\n",
    "          for data in employee_file:\n",
    "            employee_list.append(data)\n",
    "          return employee_list\n",
    "    \n",
    "\"\"\" To test the function, call the function and save it to a variable called employee_list. \n",
    "Pass the path to employees.csv as a parameter to the function. \n",
    "Print the variable employee_list to check whether it returns a list of dictionaries. \"\"\"\n",
    "\n",
    "employee_list = read_employees('<file_location>')\n",
    "print(employee_list)\n",
    "\n",
    "def process_data(employee_list):\n",
    "    department_list = []\n",
    "    for employee_data in employee_list:\n",
    "        department_list.append(employee_data['Department'])\n",
    "        \n",
    "    department_data = {}\n",
    "    for department_name in set(department_list):\n",
    "        department_data[department_name] = department_list.count(department_name)\n",
    "    return department_data\n",
    "\n",
    "dictionary = process_data(employee_list)\n",
    "print(dictionary)"
   ]
  },
  {
   "cell_type": "markdown",
   "id": "antique-thriller",
   "metadata": {},
   "source": [
    "This function requires a dictionary, from the previous section, and report_file, an output file to generate report, to both be passed as parameters.\n",
    "\n",
    "You will use the open() function to open a file and return a corresponding file object. This function requires file path and file mode to be passed as parameters. The file mode is 'r' (reading) by default, so you should now explicitly pass 'w+' mode (open for reading and writing, overwriting a file) as a parameter.\n",
    "\n",
    "Once you open the file for writing, iterate through the dictionary and use write() on the file to store the data."
   ]
  },
  {
   "cell_type": "code",
   "execution_count": null,
   "id": "modified-slope",
   "metadata": {},
   "outputs": [],
   "source": [
    "#!/usr/bin/env python3\n",
    "#Now, import the CSV module.\n",
    "import csv\n",
    "\"\"\"\n",
    "Define the function read_employees. This function takes file_location (path to employees.csv) as a parameter.\n",
    "\"\"\"\n",
    "def read_employees(csv_file_location):\n",
    "      csv.register_dialect('empDialect', skipinitialspace=True, strict=True)\n",
    "        \"\"\" The main purpose of this dialect is to remove any leading spaces while parsing the CSV file.\n",
    "\n",
    "            The function will look similar to: \"\"\"\n",
    "        employee_file = csv.DictReader(open(csv_file_location), dialect = 'empDialect')\n",
    "        employee_list = []\n",
    "          for data in employee_file:\n",
    "            employee_list.append(data)\n",
    "          return employee_list\n",
    "    \n",
    "\"\"\" To test the function, call the function and save it to a variable called employee_list. \n",
    "Pass the path to employees.csv as a parameter to the function. \n",
    "Print the variable employee_list to check whether it returns a list of dictionaries. \"\"\"\n",
    "\n",
    "employee_list = read_employees('<file_location>')\n",
    "print(employee_list)\n",
    "\n",
    "def process_data(employee_list):\n",
    "    department_list = []\n",
    "    for employee_data in employee_list:\n",
    "        department_list.append(employee_data['Department'])\n",
    "        \n",
    "    department_data = {}\n",
    "    for department_name in set(department_list):\n",
    "        department_data[department_name] = department_list.count(department_name)\n",
    "    return department_data\n",
    "\n",
    "dictionary = process_data(employee_list)\n",
    "print(dictionary)\n",
    "\n",
    "def write_report(dictionary, report_file):\n",
    "    with open(report_file, \"w+\") as f:\n",
    "        for k in sorted(dictionary):\n",
    "            f.write(str(k)+':'+str(dictionary[k])+'\\n')\n",
    "    f.close()"
   ]
  },
  {
   "cell_type": "markdown",
   "id": "healthy-unknown",
   "metadata": {},
   "source": [
    "Now call the function write_report() by passing a dictionary variable from the previous section and also passing a report_file. The report_file passed within this function should be similar to /home/<username>/data/report.txt. Replace <username> with the one mentioned in Connection Details Panel at left-hand side."
   ]
  },
  {
   "cell_type": "code",
   "execution_count": null,
   "id": "known-insight",
   "metadata": {},
   "outputs": [],
   "source": [
    "#!/usr/bin/env python3\n",
    "#Now, import the CSV module.\n",
    "import csv\n",
    "\"\"\"\n",
    "Define the function read_employees. This function takes file_location (path to employees.csv) as a parameter.\n",
    "\"\"\"\n",
    "def read_employees(csv_file_location):\n",
    "      csv.register_dialect('empDialect', skipinitialspace=True, strict=True)\n",
    "        \"\"\" The main purpose of this dialect is to remove any leading spaces while parsing the CSV file.\n",
    "\n",
    "            The function will look similar to: \"\"\"\n",
    "        employee_file = csv.DictReader(open(csv_file_location), dialect = 'empDialect')\n",
    "        employee_list = []\n",
    "          for data in employee_file:\n",
    "            employee_list.append(data)\n",
    "          return employee_list\n",
    "    \n",
    "\"\"\" To test the function, call the function and save it to a variable called employee_list. \n",
    "Pass the path to employees.csv as a parameter to the function. \n",
    "Print the variable employee_list to check whether it returns a list of dictionaries. \"\"\"\n",
    "\n",
    "employee_list = read_employees('/home/student-01-7ae3abd56cd7/data/employees.csv')\n",
    "print(employee_list)\n",
    "\n",
    "def process_data(employee_list):\n",
    "    department_list = []\n",
    "    for employee_data in employee_list:\n",
    "        department_list.append(employee_data['Department'])\n",
    "        \n",
    "    department_data = {}\n",
    "    for department_name in set(department_list):\n",
    "        department_data[department_name] = department_list.count(department_name)\n",
    "    return department_data\n",
    "\n",
    "dictionary = process_data(employee_list)\n",
    "print(dictionary)\n",
    "\n",
    "def write_report(dictionary, report_file):\n",
    "    with open(report_file, \"w+\") as f:\n",
    "        for k in sorted(dictionary):\n",
    "            f.write(str(k)+':'+str(dictionary[k])+'\\n')\n",
    "    f.close()\n",
    "    \n",
    "write_report(dictionary, '/home/student-01-7ae3abd56cd7/report.txt')"
   ]
  },
  {
   "cell_type": "markdown",
   "id": "friendly-estimate",
   "metadata": {},
   "source": [
    "Save the file by clicking Ctrl-o, Enter, and Ctrl-x.\n",
    "\n",
    "Let's execute the script now."
   ]
  },
  {
   "cell_type": "code",
   "execution_count": null,
   "id": "announced-enzyme",
   "metadata": {},
   "outputs": [],
   "source": [
    "./generate_report.py"
   ]
  },
  {
   "cell_type": "markdown",
   "id": "southwest-complex",
   "metadata": {},
   "source": [
    "This script does not generate any output, but it creates a new file named report.txt within the data directory. This report.txt file should now have the count of people in each department.\n",
    "\n",
    "Navigate to the data directory and list the files. You should see a new file named report.txt."
   ]
  },
  {
   "cell_type": "code",
   "execution_count": null,
   "id": "accurate-freight",
   "metadata": {},
   "outputs": [],
   "source": [
    "cd ~/data"
   ]
  },
  {
   "cell_type": "code",
   "execution_count": null,
   "id": "necessary-psychiatry",
   "metadata": {},
   "outputs": [],
   "source": [
    "ls"
   ]
  },
  {
   "cell_type": "markdown",
   "id": "animal-pursuit",
   "metadata": {},
   "source": [
    "To view the generated report file, use the following command:"
   ]
  },
  {
   "cell_type": "code",
   "execution_count": null,
   "id": "specific-vegetation",
   "metadata": {},
   "outputs": [],
   "source": [
    "cat report.txt"
   ]
  }
 ],
 "metadata": {
  "kernelspec": {
   "display_name": "Python 3",
   "language": "python",
   "name": "python3"
  },
  "language_info": {
   "codemirror_mode": {
    "name": "ipython",
    "version": 3
   },
   "file_extension": ".py",
   "mimetype": "text/x-python",
   "name": "python",
   "nbconvert_exporter": "python",
   "pygments_lexer": "ipython3",
   "version": "3.8.5"
  }
 },
 "nbformat": 4,
 "nbformat_minor": 5
}
